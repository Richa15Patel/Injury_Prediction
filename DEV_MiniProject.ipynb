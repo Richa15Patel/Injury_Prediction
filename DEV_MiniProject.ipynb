{
  "cells": [
    {
      "cell_type": "markdown",
      "metadata": {
        "id": "EIyWhsTwYHtP"
      },
      "source": [
        "Importing Common Libraries"
      ]
    },
    {
      "cell_type": "code",
      "execution_count": null,
      "metadata": {
        "id": "0xzVQuH1An7Z"
      },
      "outputs": [],
      "source": [
        "import numpy as np\n",
        "import pandas as pd\n",
        "import matplotlib.pyplot as plt\n",
        "import seaborn as sns"
      ]
    },
    {
      "cell_type": "code",
      "execution_count": null,
      "metadata": {
        "id": "TYavyjuRjDtg"
      },
      "outputs": [],
      "source": [
        "sns.set_palette(\"pastel\")"
      ]
    },
    {
      "cell_type": "code",
      "execution_count": null,
      "metadata": {
        "colab": {
          "base_uri": "https://localhost:8080/",
          "height": 738
        },
        "id": "LTsiNOHWBep7",
        "outputId": "3f12e4c8-b107-48df-f133-6c7cbaf071fb"
      },
      "outputs": [
        {
          "data": {
            "application/vnd.google.colaboratory.intrinsic+json": {
              "type": "dataframe",
              "variable_name": "df"
            },
            "text/html": [
              "\n",
              "  <div id=\"df-7621d44e-8e3e-4d26-848e-8a93010ab67a\" class=\"colab-df-container\">\n",
              "    <div>\n",
              "<style scoped>\n",
              "    .dataframe tbody tr th:only-of-type {\n",
              "        vertical-align: middle;\n",
              "    }\n",
              "\n",
              "    .dataframe tbody tr th {\n",
              "        vertical-align: top;\n",
              "    }\n",
              "\n",
              "    .dataframe thead th {\n",
              "        text-align: right;\n",
              "    }\n",
              "</style>\n",
              "<table border=\"1\" class=\"dataframe\">\n",
              "  <thead>\n",
              "    <tr style=\"text-align: right;\">\n",
              "      <th></th>\n",
              "      <th>GPA</th>\n",
              "      <th>Gender</th>\n",
              "      <th>breakfast</th>\n",
              "      <th>calories_chicken</th>\n",
              "      <th>calories_day</th>\n",
              "      <th>calories_scone</th>\n",
              "      <th>coffee</th>\n",
              "      <th>comfort_food</th>\n",
              "      <th>comfort_food_reasons</th>\n",
              "      <th>comfort_food_reasons_coded</th>\n",
              "      <th>...</th>\n",
              "      <th>soup</th>\n",
              "      <th>sports</th>\n",
              "      <th>thai_food</th>\n",
              "      <th>tortilla_calories</th>\n",
              "      <th>turkey_calories</th>\n",
              "      <th>type_sports</th>\n",
              "      <th>veggies_day</th>\n",
              "      <th>vitamins</th>\n",
              "      <th>waffle_calories</th>\n",
              "      <th>weight</th>\n",
              "    </tr>\n",
              "  </thead>\n",
              "  <tbody>\n",
              "    <tr>\n",
              "      <th>0</th>\n",
              "      <td>2.4</td>\n",
              "      <td>2</td>\n",
              "      <td>1</td>\n",
              "      <td>430</td>\n",
              "      <td>NaN</td>\n",
              "      <td>315.0</td>\n",
              "      <td>1</td>\n",
              "      <td>none</td>\n",
              "      <td>we dont have comfort</td>\n",
              "      <td>9.0</td>\n",
              "      <td>...</td>\n",
              "      <td>1.0</td>\n",
              "      <td>1.0</td>\n",
              "      <td>1</td>\n",
              "      <td>1165.0</td>\n",
              "      <td>345</td>\n",
              "      <td>car racing</td>\n",
              "      <td>5</td>\n",
              "      <td>1</td>\n",
              "      <td>1315</td>\n",
              "      <td>187</td>\n",
              "    </tr>\n",
              "    <tr>\n",
              "      <th>1</th>\n",
              "      <td>3.654</td>\n",
              "      <td>1</td>\n",
              "      <td>1</td>\n",
              "      <td>610</td>\n",
              "      <td>3.0</td>\n",
              "      <td>420.0</td>\n",
              "      <td>2</td>\n",
              "      <td>chocolate, chips, ice cream</td>\n",
              "      <td>Stress, bored, anger</td>\n",
              "      <td>1.0</td>\n",
              "      <td>...</td>\n",
              "      <td>1.0</td>\n",
              "      <td>1.0</td>\n",
              "      <td>2</td>\n",
              "      <td>725.0</td>\n",
              "      <td>690</td>\n",
              "      <td>Basketball</td>\n",
              "      <td>4</td>\n",
              "      <td>2</td>\n",
              "      <td>900</td>\n",
              "      <td>155</td>\n",
              "    </tr>\n",
              "    <tr>\n",
              "      <th>2</th>\n",
              "      <td>3.3</td>\n",
              "      <td>1</td>\n",
              "      <td>1</td>\n",
              "      <td>720</td>\n",
              "      <td>4.0</td>\n",
              "      <td>420.0</td>\n",
              "      <td>2</td>\n",
              "      <td>frozen yogurt, pizza, fast food</td>\n",
              "      <td>stress, sadness</td>\n",
              "      <td>1.0</td>\n",
              "      <td>...</td>\n",
              "      <td>1.0</td>\n",
              "      <td>2.0</td>\n",
              "      <td>5</td>\n",
              "      <td>1165.0</td>\n",
              "      <td>500</td>\n",
              "      <td>none</td>\n",
              "      <td>5</td>\n",
              "      <td>1</td>\n",
              "      <td>900</td>\n",
              "      <td>I'm not answering this.</td>\n",
              "    </tr>\n",
              "    <tr>\n",
              "      <th>3</th>\n",
              "      <td>3.2</td>\n",
              "      <td>1</td>\n",
              "      <td>1</td>\n",
              "      <td>430</td>\n",
              "      <td>3.0</td>\n",
              "      <td>420.0</td>\n",
              "      <td>2</td>\n",
              "      <td>Pizza, Mac and cheese, ice cream</td>\n",
              "      <td>Boredom</td>\n",
              "      <td>2.0</td>\n",
              "      <td>...</td>\n",
              "      <td>1.0</td>\n",
              "      <td>2.0</td>\n",
              "      <td>5</td>\n",
              "      <td>725.0</td>\n",
              "      <td>690</td>\n",
              "      <td>NaN</td>\n",
              "      <td>3</td>\n",
              "      <td>1</td>\n",
              "      <td>1315</td>\n",
              "      <td>Not sure, 240</td>\n",
              "    </tr>\n",
              "    <tr>\n",
              "      <th>4</th>\n",
              "      <td>3.5</td>\n",
              "      <td>1</td>\n",
              "      <td>1</td>\n",
              "      <td>720</td>\n",
              "      <td>2.0</td>\n",
              "      <td>420.0</td>\n",
              "      <td>2</td>\n",
              "      <td>Ice cream, chocolate, chips</td>\n",
              "      <td>Stress, boredom, cravings</td>\n",
              "      <td>1.0</td>\n",
              "      <td>...</td>\n",
              "      <td>1.0</td>\n",
              "      <td>1.0</td>\n",
              "      <td>4</td>\n",
              "      <td>940.0</td>\n",
              "      <td>500</td>\n",
              "      <td>Softball</td>\n",
              "      <td>4</td>\n",
              "      <td>2</td>\n",
              "      <td>760</td>\n",
              "      <td>190</td>\n",
              "    </tr>\n",
              "    <tr>\n",
              "      <th>...</th>\n",
              "      <td>...</td>\n",
              "      <td>...</td>\n",
              "      <td>...</td>\n",
              "      <td>...</td>\n",
              "      <td>...</td>\n",
              "      <td>...</td>\n",
              "      <td>...</td>\n",
              "      <td>...</td>\n",
              "      <td>...</td>\n",
              "      <td>...</td>\n",
              "      <td>...</td>\n",
              "      <td>...</td>\n",
              "      <td>...</td>\n",
              "      <td>...</td>\n",
              "      <td>...</td>\n",
              "      <td>...</td>\n",
              "      <td>...</td>\n",
              "      <td>...</td>\n",
              "      <td>...</td>\n",
              "      <td>...</td>\n",
              "      <td>...</td>\n",
              "    </tr>\n",
              "    <tr>\n",
              "      <th>120</th>\n",
              "      <td>3.5</td>\n",
              "      <td>1</td>\n",
              "      <td>1</td>\n",
              "      <td>610</td>\n",
              "      <td>4.0</td>\n",
              "      <td>420.0</td>\n",
              "      <td>2</td>\n",
              "      <td>wine. mac and cheese, pizza, ice cream</td>\n",
              "      <td>boredom and sadness</td>\n",
              "      <td>NaN</td>\n",
              "      <td>...</td>\n",
              "      <td>1.0</td>\n",
              "      <td>1.0</td>\n",
              "      <td>5</td>\n",
              "      <td>940.0</td>\n",
              "      <td>500</td>\n",
              "      <td>Softball</td>\n",
              "      <td>5</td>\n",
              "      <td>1</td>\n",
              "      <td>1315</td>\n",
              "      <td>156</td>\n",
              "    </tr>\n",
              "    <tr>\n",
              "      <th>121</th>\n",
              "      <td>3</td>\n",
              "      <td>1</td>\n",
              "      <td>1</td>\n",
              "      <td>265</td>\n",
              "      <td>2.0</td>\n",
              "      <td>315.0</td>\n",
              "      <td>2</td>\n",
              "      <td>Pizza / Wings / Cheesecake</td>\n",
              "      <td>Loneliness / Homesick / Sadness</td>\n",
              "      <td>NaN</td>\n",
              "      <td>...</td>\n",
              "      <td>1.0</td>\n",
              "      <td>NaN</td>\n",
              "      <td>4</td>\n",
              "      <td>940.0</td>\n",
              "      <td>500</td>\n",
              "      <td>basketball</td>\n",
              "      <td>5</td>\n",
              "      <td>2</td>\n",
              "      <td>1315</td>\n",
              "      <td>180</td>\n",
              "    </tr>\n",
              "    <tr>\n",
              "      <th>122</th>\n",
              "      <td>3.882</td>\n",
              "      <td>1</td>\n",
              "      <td>1</td>\n",
              "      <td>720</td>\n",
              "      <td>NaN</td>\n",
              "      <td>420.0</td>\n",
              "      <td>1</td>\n",
              "      <td>rice, potato, seaweed soup</td>\n",
              "      <td>sadness</td>\n",
              "      <td>NaN</td>\n",
              "      <td>...</td>\n",
              "      <td>1.0</td>\n",
              "      <td>2.0</td>\n",
              "      <td>5</td>\n",
              "      <td>580.0</td>\n",
              "      <td>690</td>\n",
              "      <td>none</td>\n",
              "      <td>4</td>\n",
              "      <td>2</td>\n",
              "      <td>1315</td>\n",
              "      <td>120</td>\n",
              "    </tr>\n",
              "    <tr>\n",
              "      <th>123</th>\n",
              "      <td>3</td>\n",
              "      <td>2</td>\n",
              "      <td>1</td>\n",
              "      <td>720</td>\n",
              "      <td>4.0</td>\n",
              "      <td>420.0</td>\n",
              "      <td>1</td>\n",
              "      <td>Mac n Cheese, Lasagna, Pizza</td>\n",
              "      <td>happiness, they are some of my favorite foods</td>\n",
              "      <td>NaN</td>\n",
              "      <td>...</td>\n",
              "      <td>2.0</td>\n",
              "      <td>2.0</td>\n",
              "      <td>1</td>\n",
              "      <td>940.0</td>\n",
              "      <td>500</td>\n",
              "      <td>NaN</td>\n",
              "      <td>3</td>\n",
              "      <td>1</td>\n",
              "      <td>1315</td>\n",
              "      <td>135</td>\n",
              "    </tr>\n",
              "    <tr>\n",
              "      <th>124</th>\n",
              "      <td>3.9</td>\n",
              "      <td>1</td>\n",
              "      <td>1</td>\n",
              "      <td>430</td>\n",
              "      <td>NaN</td>\n",
              "      <td>315.0</td>\n",
              "      <td>2</td>\n",
              "      <td>Chocolates, pizza, and Ritz.</td>\n",
              "      <td>hormones, Premenstrual syndrome.</td>\n",
              "      <td>NaN</td>\n",
              "      <td>...</td>\n",
              "      <td>1.0</td>\n",
              "      <td>2.0</td>\n",
              "      <td>2</td>\n",
              "      <td>725.0</td>\n",
              "      <td>345</td>\n",
              "      <td>NaN</td>\n",
              "      <td>4</td>\n",
              "      <td>2</td>\n",
              "      <td>575</td>\n",
              "      <td>135</td>\n",
              "    </tr>\n",
              "  </tbody>\n",
              "</table>\n",
              "<p>125 rows × 61 columns</p>\n",
              "</div>\n",
              "    <div class=\"colab-df-buttons\">\n",
              "\n",
              "  <div class=\"colab-df-container\">\n",
              "    <button class=\"colab-df-convert\" onclick=\"convertToInteractive('df-7621d44e-8e3e-4d26-848e-8a93010ab67a')\"\n",
              "            title=\"Convert this dataframe to an interactive table.\"\n",
              "            style=\"display:none;\">\n",
              "\n",
              "  <svg xmlns=\"http://www.w3.org/2000/svg\" height=\"24px\" viewBox=\"0 -960 960 960\">\n",
              "    <path d=\"M120-120v-720h720v720H120Zm60-500h600v-160H180v160Zm220 220h160v-160H400v160Zm0 220h160v-160H400v160ZM180-400h160v-160H180v160Zm440 0h160v-160H620v160ZM180-180h160v-160H180v160Zm440 0h160v-160H620v160Z\"/>\n",
              "  </svg>\n",
              "    </button>\n",
              "\n",
              "  <style>\n",
              "    .colab-df-container {\n",
              "      display:flex;\n",
              "      gap: 12px;\n",
              "    }\n",
              "\n",
              "    .colab-df-convert {\n",
              "      background-color: #E8F0FE;\n",
              "      border: none;\n",
              "      border-radius: 50%;\n",
              "      cursor: pointer;\n",
              "      display: none;\n",
              "      fill: #1967D2;\n",
              "      height: 32px;\n",
              "      padding: 0 0 0 0;\n",
              "      width: 32px;\n",
              "    }\n",
              "\n",
              "    .colab-df-convert:hover {\n",
              "      background-color: #E2EBFA;\n",
              "      box-shadow: 0px 1px 2px rgba(60, 64, 67, 0.3), 0px 1px 3px 1px rgba(60, 64, 67, 0.15);\n",
              "      fill: #174EA6;\n",
              "    }\n",
              "\n",
              "    .colab-df-buttons div {\n",
              "      margin-bottom: 4px;\n",
              "    }\n",
              "\n",
              "    [theme=dark] .colab-df-convert {\n",
              "      background-color: #3B4455;\n",
              "      fill: #D2E3FC;\n",
              "    }\n",
              "\n",
              "    [theme=dark] .colab-df-convert:hover {\n",
              "      background-color: #434B5C;\n",
              "      box-shadow: 0px 1px 3px 1px rgba(0, 0, 0, 0.15);\n",
              "      filter: drop-shadow(0px 1px 2px rgba(0, 0, 0, 0.3));\n",
              "      fill: #FFFFFF;\n",
              "    }\n",
              "  </style>\n",
              "\n",
              "    <script>\n",
              "      const buttonEl =\n",
              "        document.querySelector('#df-7621d44e-8e3e-4d26-848e-8a93010ab67a button.colab-df-convert');\n",
              "      buttonEl.style.display =\n",
              "        google.colab.kernel.accessAllowed ? 'block' : 'none';\n",
              "\n",
              "      async function convertToInteractive(key) {\n",
              "        const element = document.querySelector('#df-7621d44e-8e3e-4d26-848e-8a93010ab67a');\n",
              "        const dataTable =\n",
              "          await google.colab.kernel.invokeFunction('convertToInteractive',\n",
              "                                                    [key], {});\n",
              "        if (!dataTable) return;\n",
              "\n",
              "        const docLinkHtml = 'Like what you see? Visit the ' +\n",
              "          '<a target=\"_blank\" href=https://colab.research.google.com/notebooks/data_table.ipynb>data table notebook</a>'\n",
              "          + ' to learn more about interactive tables.';\n",
              "        element.innerHTML = '';\n",
              "        dataTable['output_type'] = 'display_data';\n",
              "        await google.colab.output.renderOutput(dataTable, element);\n",
              "        const docLink = document.createElement('div');\n",
              "        docLink.innerHTML = docLinkHtml;\n",
              "        element.appendChild(docLink);\n",
              "      }\n",
              "    </script>\n",
              "  </div>\n",
              "\n",
              "\n",
              "<div id=\"df-96c4737b-000c-489c-aa08-32462f302f58\">\n",
              "  <button class=\"colab-df-quickchart\" onclick=\"quickchart('df-96c4737b-000c-489c-aa08-32462f302f58')\"\n",
              "            title=\"Suggest charts\"\n",
              "            style=\"display:none;\">\n",
              "\n",
              "<svg xmlns=\"http://www.w3.org/2000/svg\" height=\"24px\"viewBox=\"0 0 24 24\"\n",
              "     width=\"24px\">\n",
              "    <g>\n",
              "        <path d=\"M19 3H5c-1.1 0-2 .9-2 2v14c0 1.1.9 2 2 2h14c1.1 0 2-.9 2-2V5c0-1.1-.9-2-2-2zM9 17H7v-7h2v7zm4 0h-2V7h2v10zm4 0h-2v-4h2v4z\"/>\n",
              "    </g>\n",
              "</svg>\n",
              "  </button>\n",
              "\n",
              "<style>\n",
              "  .colab-df-quickchart {\n",
              "      --bg-color: #E8F0FE;\n",
              "      --fill-color: #1967D2;\n",
              "      --hover-bg-color: #E2EBFA;\n",
              "      --hover-fill-color: #174EA6;\n",
              "      --disabled-fill-color: #AAA;\n",
              "      --disabled-bg-color: #DDD;\n",
              "  }\n",
              "\n",
              "  [theme=dark] .colab-df-quickchart {\n",
              "      --bg-color: #3B4455;\n",
              "      --fill-color: #D2E3FC;\n",
              "      --hover-bg-color: #434B5C;\n",
              "      --hover-fill-color: #FFFFFF;\n",
              "      --disabled-bg-color: #3B4455;\n",
              "      --disabled-fill-color: #666;\n",
              "  }\n",
              "\n",
              "  .colab-df-quickchart {\n",
              "    background-color: var(--bg-color);\n",
              "    border: none;\n",
              "    border-radius: 50%;\n",
              "    cursor: pointer;\n",
              "    display: none;\n",
              "    fill: var(--fill-color);\n",
              "    height: 32px;\n",
              "    padding: 0;\n",
              "    width: 32px;\n",
              "  }\n",
              "\n",
              "  .colab-df-quickchart:hover {\n",
              "    background-color: var(--hover-bg-color);\n",
              "    box-shadow: 0 1px 2px rgba(60, 64, 67, 0.3), 0 1px 3px 1px rgba(60, 64, 67, 0.15);\n",
              "    fill: var(--button-hover-fill-color);\n",
              "  }\n",
              "\n",
              "  .colab-df-quickchart-complete:disabled,\n",
              "  .colab-df-quickchart-complete:disabled:hover {\n",
              "    background-color: var(--disabled-bg-color);\n",
              "    fill: var(--disabled-fill-color);\n",
              "    box-shadow: none;\n",
              "  }\n",
              "\n",
              "  .colab-df-spinner {\n",
              "    border: 2px solid var(--fill-color);\n",
              "    border-color: transparent;\n",
              "    border-bottom-color: var(--fill-color);\n",
              "    animation:\n",
              "      spin 1s steps(1) infinite;\n",
              "  }\n",
              "\n",
              "  @keyframes spin {\n",
              "    0% {\n",
              "      border-color: transparent;\n",
              "      border-bottom-color: var(--fill-color);\n",
              "      border-left-color: var(--fill-color);\n",
              "    }\n",
              "    20% {\n",
              "      border-color: transparent;\n",
              "      border-left-color: var(--fill-color);\n",
              "      border-top-color: var(--fill-color);\n",
              "    }\n",
              "    30% {\n",
              "      border-color: transparent;\n",
              "      border-left-color: var(--fill-color);\n",
              "      border-top-color: var(--fill-color);\n",
              "      border-right-color: var(--fill-color);\n",
              "    }\n",
              "    40% {\n",
              "      border-color: transparent;\n",
              "      border-right-color: var(--fill-color);\n",
              "      border-top-color: var(--fill-color);\n",
              "    }\n",
              "    60% {\n",
              "      border-color: transparent;\n",
              "      border-right-color: var(--fill-color);\n",
              "    }\n",
              "    80% {\n",
              "      border-color: transparent;\n",
              "      border-right-color: var(--fill-color);\n",
              "      border-bottom-color: var(--fill-color);\n",
              "    }\n",
              "    90% {\n",
              "      border-color: transparent;\n",
              "      border-bottom-color: var(--fill-color);\n",
              "    }\n",
              "  }\n",
              "</style>\n",
              "\n",
              "  <script>\n",
              "    async function quickchart(key) {\n",
              "      const quickchartButtonEl =\n",
              "        document.querySelector('#' + key + ' button');\n",
              "      quickchartButtonEl.disabled = true;  // To prevent multiple clicks.\n",
              "      quickchartButtonEl.classList.add('colab-df-spinner');\n",
              "      try {\n",
              "        const charts = await google.colab.kernel.invokeFunction(\n",
              "            'suggestCharts', [key], {});\n",
              "      } catch (error) {\n",
              "        console.error('Error during call to suggestCharts:', error);\n",
              "      }\n",
              "      quickchartButtonEl.classList.remove('colab-df-spinner');\n",
              "      quickchartButtonEl.classList.add('colab-df-quickchart-complete');\n",
              "    }\n",
              "    (() => {\n",
              "      let quickchartButtonEl =\n",
              "        document.querySelector('#df-96c4737b-000c-489c-aa08-32462f302f58 button');\n",
              "      quickchartButtonEl.style.display =\n",
              "        google.colab.kernel.accessAllowed ? 'block' : 'none';\n",
              "    })();\n",
              "  </script>\n",
              "</div>\n",
              "\n",
              "  <div id=\"id_bd3d209a-44b1-44a8-904d-0ac0bdbc1b58\">\n",
              "    <style>\n",
              "      .colab-df-generate {\n",
              "        background-color: #E8F0FE;\n",
              "        border: none;\n",
              "        border-radius: 50%;\n",
              "        cursor: pointer;\n",
              "        display: none;\n",
              "        fill: #1967D2;\n",
              "        height: 32px;\n",
              "        padding: 0 0 0 0;\n",
              "        width: 32px;\n",
              "      }\n",
              "\n",
              "      .colab-df-generate:hover {\n",
              "        background-color: #E2EBFA;\n",
              "        box-shadow: 0px 1px 2px rgba(60, 64, 67, 0.3), 0px 1px 3px 1px rgba(60, 64, 67, 0.15);\n",
              "        fill: #174EA6;\n",
              "      }\n",
              "\n",
              "      [theme=dark] .colab-df-generate {\n",
              "        background-color: #3B4455;\n",
              "        fill: #D2E3FC;\n",
              "      }\n",
              "\n",
              "      [theme=dark] .colab-df-generate:hover {\n",
              "        background-color: #434B5C;\n",
              "        box-shadow: 0px 1px 3px 1px rgba(0, 0, 0, 0.15);\n",
              "        filter: drop-shadow(0px 1px 2px rgba(0, 0, 0, 0.3));\n",
              "        fill: #FFFFFF;\n",
              "      }\n",
              "    </style>\n",
              "    <button class=\"colab-df-generate\" onclick=\"generateWithVariable('df')\"\n",
              "            title=\"Generate code using this dataframe.\"\n",
              "            style=\"display:none;\">\n",
              "\n",
              "  <svg xmlns=\"http://www.w3.org/2000/svg\" height=\"24px\"viewBox=\"0 0 24 24\"\n",
              "       width=\"24px\">\n",
              "    <path d=\"M7,19H8.4L18.45,9,17,7.55,7,17.6ZM5,21V16.75L18.45,3.32a2,2,0,0,1,2.83,0l1.4,1.43a1.91,1.91,0,0,1,.58,1.4,1.91,1.91,0,0,1-.58,1.4L9.25,21ZM18.45,9,17,7.55Zm-12,3A5.31,5.31,0,0,0,4.9,8.1,5.31,5.31,0,0,0,1,6.5,5.31,5.31,0,0,0,4.9,4.9,5.31,5.31,0,0,0,6.5,1,5.31,5.31,0,0,0,8.1,4.9,5.31,5.31,0,0,0,12,6.5,5.46,5.46,0,0,0,6.5,12Z\"/>\n",
              "  </svg>\n",
              "    </button>\n",
              "    <script>\n",
              "      (() => {\n",
              "      const buttonEl =\n",
              "        document.querySelector('#id_bd3d209a-44b1-44a8-904d-0ac0bdbc1b58 button.colab-df-generate');\n",
              "      buttonEl.style.display =\n",
              "        google.colab.kernel.accessAllowed ? 'block' : 'none';\n",
              "\n",
              "      buttonEl.onclick = () => {\n",
              "        google.colab.notebook.generateWithVariable('df');\n",
              "      }\n",
              "      })();\n",
              "    </script>\n",
              "  </div>\n",
              "\n",
              "    </div>\n",
              "  </div>\n"
            ],
            "text/plain": [
              "       GPA  Gender  breakfast  calories_chicken  calories_day  calories_scone  \\\n",
              "0      2.4       2          1               430           NaN           315.0   \n",
              "1    3.654       1          1               610           3.0           420.0   \n",
              "2      3.3       1          1               720           4.0           420.0   \n",
              "3      3.2       1          1               430           3.0           420.0   \n",
              "4      3.5       1          1               720           2.0           420.0   \n",
              "..     ...     ...        ...               ...           ...             ...   \n",
              "120    3.5       1          1               610           4.0           420.0   \n",
              "121      3       1          1               265           2.0           315.0   \n",
              "122  3.882       1          1               720           NaN           420.0   \n",
              "123      3       2          1               720           4.0           420.0   \n",
              "124    3.9       1          1               430           NaN           315.0   \n",
              "\n",
              "     coffee                             comfort_food  \\\n",
              "0         1                                     none   \n",
              "1         2              chocolate, chips, ice cream   \n",
              "2         2          frozen yogurt, pizza, fast food   \n",
              "3         2         Pizza, Mac and cheese, ice cream   \n",
              "4         2             Ice cream, chocolate, chips    \n",
              "..      ...                                      ...   \n",
              "120       2  wine. mac and cheese, pizza, ice cream    \n",
              "121       2               Pizza / Wings / Cheesecake   \n",
              "122       1               rice, potato, seaweed soup   \n",
              "123       1             Mac n Cheese, Lasagna, Pizza   \n",
              "124       2             Chocolates, pizza, and Ritz.   \n",
              "\n",
              "                              comfort_food_reasons  \\\n",
              "0                            we dont have comfort    \n",
              "1                             Stress, bored, anger   \n",
              "2                                  stress, sadness   \n",
              "3                                          Boredom   \n",
              "4                       Stress, boredom, cravings    \n",
              "..                                             ...   \n",
              "120                           boredom and sadness    \n",
              "121                Loneliness / Homesick / Sadness   \n",
              "122                                        sadness   \n",
              "123  happiness, they are some of my favorite foods   \n",
              "124               hormones, Premenstrual syndrome.   \n",
              "\n",
              "     comfort_food_reasons_coded  ...  soup  sports  thai_food  \\\n",
              "0                           9.0  ...   1.0     1.0          1   \n",
              "1                           1.0  ...   1.0     1.0          2   \n",
              "2                           1.0  ...   1.0     2.0          5   \n",
              "3                           2.0  ...   1.0     2.0          5   \n",
              "4                           1.0  ...   1.0     1.0          4   \n",
              "..                          ...  ...   ...     ...        ...   \n",
              "120                         NaN  ...   1.0     1.0          5   \n",
              "121                         NaN  ...   1.0     NaN          4   \n",
              "122                         NaN  ...   1.0     2.0          5   \n",
              "123                         NaN  ...   2.0     2.0          1   \n",
              "124                         NaN  ...   1.0     2.0          2   \n",
              "\n",
              "    tortilla_calories  turkey_calories  type_sports veggies_day  vitamins  \\\n",
              "0              1165.0              345   car racing           5         1   \n",
              "1               725.0              690  Basketball            4         2   \n",
              "2              1165.0              500         none           5         1   \n",
              "3               725.0              690          NaN           3         1   \n",
              "4               940.0              500     Softball           4         2   \n",
              "..                ...              ...          ...         ...       ...   \n",
              "120             940.0              500     Softball           5         1   \n",
              "121             940.0              500  basketball            5         2   \n",
              "122             580.0              690         none           4         2   \n",
              "123             940.0              500          NaN           3         1   \n",
              "124             725.0              345          NaN           4         2   \n",
              "\n",
              "     waffle_calories                    weight  \n",
              "0               1315                       187  \n",
              "1                900                       155  \n",
              "2                900  I'm not answering this.   \n",
              "3               1315             Not sure, 240  \n",
              "4                760                       190  \n",
              "..               ...                       ...  \n",
              "120             1315                       156  \n",
              "121             1315                       180  \n",
              "122             1315                       120  \n",
              "123             1315                       135  \n",
              "124              575                       135  \n",
              "\n",
              "[125 rows x 61 columns]"
            ]
          },
          "execution_count": 3,
          "metadata": {},
          "output_type": "execute_result"
        }
      ],
      "source": [
        "df = pd.read_csv(\"food_choices.csv\")\n",
        "df"
      ]
    },
    {
      "cell_type": "code",
      "execution_count": null,
      "metadata": {
        "colab": {
          "base_uri": "https://localhost:8080/"
        },
        "id": "D2mAkwXxGzqq",
        "outputId": "f2220912-6292-48d7-dd21-155b682f3eb6"
      },
      "outputs": [
        {
          "data": {
            "text/plain": [
              "(125, 61)"
            ]
          },
          "execution_count": 4,
          "metadata": {},
          "output_type": "execute_result"
        }
      ],
      "source": [
        "df.shape"
      ]
    },
    {
      "cell_type": "code",
      "execution_count": null,
      "metadata": {
        "colab": {
          "base_uri": "https://localhost:8080/"
        },
        "id": "-xoqyRRpB3CW",
        "outputId": "3e0e656e-d63d-4ba4-c946-ece9acb3985f"
      },
      "outputs": [
        {
          "name": "stdout",
          "output_type": "stream",
          "text": [
            "<class 'pandas.core.frame.DataFrame'>\n",
            "RangeIndex: 125 entries, 0 to 124\n",
            "Data columns (total 61 columns):\n",
            " #   Column                        Non-Null Count  Dtype  \n",
            "---  ------                        --------------  -----  \n",
            " 0   GPA                           123 non-null    object \n",
            " 1   Gender                        125 non-null    int64  \n",
            " 2   breakfast                     125 non-null    int64  \n",
            " 3   calories_chicken              125 non-null    int64  \n",
            " 4   calories_day                  106 non-null    float64\n",
            " 5   calories_scone                124 non-null    float64\n",
            " 6   coffee                        125 non-null    int64  \n",
            " 7   comfort_food                  124 non-null    object \n",
            " 8   comfort_food_reasons          123 non-null    object \n",
            " 9   comfort_food_reasons_coded    106 non-null    float64\n",
            " 10  cook                          122 non-null    float64\n",
            " 11  comfort_food_reasons_coded.1  125 non-null    int64  \n",
            " 12  cuisine                       108 non-null    float64\n",
            " 13  diet_current                  124 non-null    object \n",
            " 14  diet_current_coded            125 non-null    int64  \n",
            " 15  drink                         123 non-null    float64\n",
            " 16  eating_changes                122 non-null    object \n",
            " 17  eating_changes_coded          125 non-null    int64  \n",
            " 18  eating_changes_coded1         125 non-null    int64  \n",
            " 19  eating_out                    125 non-null    int64  \n",
            " 20  employment                    116 non-null    float64\n",
            " 21  ethnic_food                   125 non-null    int64  \n",
            " 22  exercise                      112 non-null    float64\n",
            " 23  father_education              124 non-null    float64\n",
            " 24  father_profession             122 non-null    object \n",
            " 25  fav_cuisine                   123 non-null    object \n",
            " 26  fav_cuisine_coded             125 non-null    int64  \n",
            " 27  fav_food                      123 non-null    float64\n",
            " 28  food_childhood                124 non-null    object \n",
            " 29  fries                         125 non-null    int64  \n",
            " 30  fruit_day                     125 non-null    int64  \n",
            " 31  grade_level                   125 non-null    int64  \n",
            " 32  greek_food                    125 non-null    int64  \n",
            " 33  healthy_feeling               125 non-null    int64  \n",
            " 34  healthy_meal                  124 non-null    object \n",
            " 35  ideal_diet                    124 non-null    object \n",
            " 36  ideal_diet_coded              125 non-null    int64  \n",
            " 37  income                        124 non-null    float64\n",
            " 38  indian_food                   125 non-null    int64  \n",
            " 39  italian_food                  125 non-null    int64  \n",
            " 40  life_rewarding                124 non-null    float64\n",
            " 41  marital_status                124 non-null    float64\n",
            " 42  meals_dinner_friend           122 non-null    object \n",
            " 43  mother_education              122 non-null    float64\n",
            " 44  mother_profession             123 non-null    object \n",
            " 45  nutritional_check             125 non-null    int64  \n",
            " 46  on_off_campus                 124 non-null    float64\n",
            " 47  parents_cook                  125 non-null    int64  \n",
            " 48  pay_meal_out                  125 non-null    int64  \n",
            " 49  persian_food                  124 non-null    float64\n",
            " 50  self_perception_weight        124 non-null    float64\n",
            " 51  soup                          124 non-null    float64\n",
            " 52  sports                        123 non-null    float64\n",
            " 53  thai_food                     125 non-null    int64  \n",
            " 54  tortilla_calories             124 non-null    float64\n",
            " 55  turkey_calories               125 non-null    int64  \n",
            " 56  type_sports                   99 non-null     object \n",
            " 57  veggies_day                   125 non-null    int64  \n",
            " 58  vitamins                      125 non-null    int64  \n",
            " 59  waffle_calories               125 non-null    int64  \n",
            " 60  weight                        123 non-null    object \n",
            "dtypes: float64(20), int64(27), object(14)\n",
            "memory usage: 59.7+ KB\n"
          ]
        }
      ],
      "source": [
        "df.info()"
      ]
    },
    {
      "cell_type": "code",
      "execution_count": null,
      "metadata": {
        "colab": {
          "base_uri": "https://localhost:8080/"
        },
        "id": "9NXnNTnbCYQ8",
        "outputId": "a9e1a9f4-3909-4304-9c90-00e6f8efc216"
      },
      "outputs": [
        {
          "name": "stdout",
          "output_type": "stream",
          "text": [
            "|                              |   0 |\n",
            "|:-----------------------------|----:|\n",
            "| GPA                          |   2 |\n",
            "| Gender                       |   0 |\n",
            "| breakfast                    |   0 |\n",
            "| calories_chicken             |   0 |\n",
            "| calories_day                 |  19 |\n",
            "| calories_scone               |   1 |\n",
            "| coffee                       |   0 |\n",
            "| comfort_food                 |   1 |\n",
            "| comfort_food_reasons         |   2 |\n",
            "| comfort_food_reasons_coded   |  19 |\n",
            "| cook                         |   3 |\n",
            "| comfort_food_reasons_coded.1 |   0 |\n",
            "| cuisine                      |  17 |\n",
            "| diet_current                 |   1 |\n",
            "| diet_current_coded           |   0 |\n",
            "| drink                        |   2 |\n",
            "| eating_changes               |   3 |\n",
            "| eating_changes_coded         |   0 |\n",
            "| eating_changes_coded1        |   0 |\n",
            "| eating_out                   |   0 |\n",
            "| employment                   |   9 |\n",
            "| ethnic_food                  |   0 |\n",
            "| exercise                     |  13 |\n",
            "| father_education             |   1 |\n",
            "| father_profession            |   3 |\n",
            "| fav_cuisine                  |   2 |\n",
            "| fav_cuisine_coded            |   0 |\n",
            "| fav_food                     |   2 |\n",
            "| food_childhood               |   1 |\n",
            "| fries                        |   0 |\n",
            "| fruit_day                    |   0 |\n",
            "| grade_level                  |   0 |\n",
            "| greek_food                   |   0 |\n",
            "| healthy_feeling              |   0 |\n",
            "| healthy_meal                 |   1 |\n",
            "| ideal_diet                   |   1 |\n",
            "| ideal_diet_coded             |   0 |\n",
            "| income                       |   1 |\n",
            "| indian_food                  |   0 |\n",
            "| italian_food                 |   0 |\n",
            "| life_rewarding               |   1 |\n",
            "| marital_status               |   1 |\n",
            "| meals_dinner_friend          |   3 |\n",
            "| mother_education             |   3 |\n",
            "| mother_profession            |   2 |\n",
            "| nutritional_check            |   0 |\n",
            "| on_off_campus                |   1 |\n",
            "| parents_cook                 |   0 |\n",
            "| pay_meal_out                 |   0 |\n",
            "| persian_food                 |   1 |\n",
            "| self_perception_weight       |   1 |\n",
            "| soup                         |   1 |\n",
            "| sports                       |   2 |\n",
            "| thai_food                    |   0 |\n",
            "| tortilla_calories            |   1 |\n",
            "| turkey_calories              |   0 |\n",
            "| type_sports                  |  26 |\n",
            "| veggies_day                  |   0 |\n",
            "| vitamins                     |   0 |\n",
            "| waffle_calories              |   0 |\n",
            "| weight                       |   2 |\n"
          ]
        }
      ],
      "source": [
        "null_values = pd.DataFrame(df.isnull().sum())\n",
        "print(null_values.to_markdown())"
      ]
    },
    {
      "cell_type": "code",
      "execution_count": null,
      "metadata": {
        "colab": {
          "base_uri": "https://localhost:8080/"
        },
        "id": "EyfMC9ibDJfU",
        "outputId": "38663d19-8d82-4d1d-c1c9-9a9147959ae3"
      },
      "outputs": [
        {
          "name": "stdout",
          "output_type": "stream",
          "text": [
            "|                              |    0 |\n",
            "|:-----------------------------|-----:|\n",
            "| GPA                          |  1.6 |\n",
            "| Gender                       |  0   |\n",
            "| breakfast                    |  0   |\n",
            "| calories_chicken             |  0   |\n",
            "| calories_day                 | 15.2 |\n",
            "| calories_scone               |  0.8 |\n",
            "| coffee                       |  0   |\n",
            "| comfort_food                 |  0.8 |\n",
            "| comfort_food_reasons         |  1.6 |\n",
            "| comfort_food_reasons_coded   | 15.2 |\n",
            "| cook                         |  2.4 |\n",
            "| comfort_food_reasons_coded.1 |  0   |\n",
            "| cuisine                      | 13.6 |\n",
            "| diet_current                 |  0.8 |\n",
            "| diet_current_coded           |  0   |\n",
            "| drink                        |  1.6 |\n",
            "| eating_changes               |  2.4 |\n",
            "| eating_changes_coded         |  0   |\n",
            "| eating_changes_coded1        |  0   |\n",
            "| eating_out                   |  0   |\n",
            "| employment                   |  7.2 |\n",
            "| ethnic_food                  |  0   |\n",
            "| exercise                     | 10.4 |\n",
            "| father_education             |  0.8 |\n",
            "| father_profession            |  2.4 |\n",
            "| fav_cuisine                  |  1.6 |\n",
            "| fav_cuisine_coded            |  0   |\n",
            "| fav_food                     |  1.6 |\n",
            "| food_childhood               |  0.8 |\n",
            "| fries                        |  0   |\n",
            "| fruit_day                    |  0   |\n",
            "| grade_level                  |  0   |\n",
            "| greek_food                   |  0   |\n",
            "| healthy_feeling              |  0   |\n",
            "| healthy_meal                 |  0.8 |\n",
            "| ideal_diet                   |  0.8 |\n",
            "| ideal_diet_coded             |  0   |\n",
            "| income                       |  0.8 |\n",
            "| indian_food                  |  0   |\n",
            "| italian_food                 |  0   |\n",
            "| life_rewarding               |  0.8 |\n",
            "| marital_status               |  0.8 |\n",
            "| meals_dinner_friend          |  2.4 |\n",
            "| mother_education             |  2.4 |\n",
            "| mother_profession            |  1.6 |\n",
            "| nutritional_check            |  0   |\n",
            "| on_off_campus                |  0.8 |\n",
            "| parents_cook                 |  0   |\n",
            "| pay_meal_out                 |  0   |\n",
            "| persian_food                 |  0.8 |\n",
            "| self_perception_weight       |  0.8 |\n",
            "| soup                         |  0.8 |\n",
            "| sports                       |  1.6 |\n",
            "| thai_food                    |  0   |\n",
            "| tortilla_calories            |  0.8 |\n",
            "| turkey_calories              |  0   |\n",
            "| type_sports                  | 20.8 |\n",
            "| veggies_day                  |  0   |\n",
            "| vitamins                     |  0   |\n",
            "| waffle_calories              |  0   |\n",
            "| weight                       |  1.6 |\n"
          ]
        }
      ],
      "source": [
        "percent_missing = pd.DataFrame(df.isnull().sum() * 100 / len(df))\n",
        "print(percent_missing.to_markdown())"
      ]
    },
    {
      "cell_type": "code",
      "execution_count": null,
      "metadata": {
        "colab": {
          "base_uri": "https://localhost:8080/",
          "height": 423
        },
        "id": "_9B1WqINiaoU",
        "outputId": "3516b792-9729-4f2d-ba18-cc5411000b95"
      },
      "outputs": [
        {
          "data": {
            "application/vnd.google.colaboratory.intrinsic+json": {
              "summary": "{\n  \"name\": \"percent_missing\",\n  \"rows\": 61,\n  \"fields\": [\n    {\n      \"column\": \"missing\",\n      \"properties\": {\n        \"dtype\": \"number\",\n        \"std\": 4.21432374055007,\n        \"min\": 0.0,\n        \"max\": 20.8,\n        \"num_unique_values\": 9,\n        \"samples\": [\n          10.4,\n          0.0,\n          13.6\n        ],\n        \"semantic_type\": \"\",\n        \"description\": \"\"\n      }\n    }\n  ]\n}",
              "type": "dataframe",
              "variable_name": "percent_missing"
            },
            "text/html": [
              "\n",
              "  <div id=\"df-93024989-9c13-44d6-bd59-2c9a47c6a81d\" class=\"colab-df-container\">\n",
              "    <div>\n",
              "<style scoped>\n",
              "    .dataframe tbody tr th:only-of-type {\n",
              "        vertical-align: middle;\n",
              "    }\n",
              "\n",
              "    .dataframe tbody tr th {\n",
              "        vertical-align: top;\n",
              "    }\n",
              "\n",
              "    .dataframe thead th {\n",
              "        text-align: right;\n",
              "    }\n",
              "</style>\n",
              "<table border=\"1\" class=\"dataframe\">\n",
              "  <thead>\n",
              "    <tr style=\"text-align: right;\">\n",
              "      <th></th>\n",
              "      <th>missing</th>\n",
              "    </tr>\n",
              "  </thead>\n",
              "  <tbody>\n",
              "    <tr>\n",
              "      <th>GPA</th>\n",
              "      <td>1.6</td>\n",
              "    </tr>\n",
              "    <tr>\n",
              "      <th>Gender</th>\n",
              "      <td>0.0</td>\n",
              "    </tr>\n",
              "    <tr>\n",
              "      <th>breakfast</th>\n",
              "      <td>0.0</td>\n",
              "    </tr>\n",
              "    <tr>\n",
              "      <th>calories_chicken</th>\n",
              "      <td>0.0</td>\n",
              "    </tr>\n",
              "    <tr>\n",
              "      <th>calories_day</th>\n",
              "      <td>15.2</td>\n",
              "    </tr>\n",
              "    <tr>\n",
              "      <th>...</th>\n",
              "      <td>...</td>\n",
              "    </tr>\n",
              "    <tr>\n",
              "      <th>type_sports</th>\n",
              "      <td>20.8</td>\n",
              "    </tr>\n",
              "    <tr>\n",
              "      <th>veggies_day</th>\n",
              "      <td>0.0</td>\n",
              "    </tr>\n",
              "    <tr>\n",
              "      <th>vitamins</th>\n",
              "      <td>0.0</td>\n",
              "    </tr>\n",
              "    <tr>\n",
              "      <th>waffle_calories</th>\n",
              "      <td>0.0</td>\n",
              "    </tr>\n",
              "    <tr>\n",
              "      <th>weight</th>\n",
              "      <td>1.6</td>\n",
              "    </tr>\n",
              "  </tbody>\n",
              "</table>\n",
              "<p>61 rows × 1 columns</p>\n",
              "</div>\n",
              "    <div class=\"colab-df-buttons\">\n",
              "\n",
              "  <div class=\"colab-df-container\">\n",
              "    <button class=\"colab-df-convert\" onclick=\"convertToInteractive('df-93024989-9c13-44d6-bd59-2c9a47c6a81d')\"\n",
              "            title=\"Convert this dataframe to an interactive table.\"\n",
              "            style=\"display:none;\">\n",
              "\n",
              "  <svg xmlns=\"http://www.w3.org/2000/svg\" height=\"24px\" viewBox=\"0 -960 960 960\">\n",
              "    <path d=\"M120-120v-720h720v720H120Zm60-500h600v-160H180v160Zm220 220h160v-160H400v160Zm0 220h160v-160H400v160ZM180-400h160v-160H180v160Zm440 0h160v-160H620v160ZM180-180h160v-160H180v160Zm440 0h160v-160H620v160Z\"/>\n",
              "  </svg>\n",
              "    </button>\n",
              "\n",
              "  <style>\n",
              "    .colab-df-container {\n",
              "      display:flex;\n",
              "      gap: 12px;\n",
              "    }\n",
              "\n",
              "    .colab-df-convert {\n",
              "      background-color: #E8F0FE;\n",
              "      border: none;\n",
              "      border-radius: 50%;\n",
              "      cursor: pointer;\n",
              "      display: none;\n",
              "      fill: #1967D2;\n",
              "      height: 32px;\n",
              "      padding: 0 0 0 0;\n",
              "      width: 32px;\n",
              "    }\n",
              "\n",
              "    .colab-df-convert:hover {\n",
              "      background-color: #E2EBFA;\n",
              "      box-shadow: 0px 1px 2px rgba(60, 64, 67, 0.3), 0px 1px 3px 1px rgba(60, 64, 67, 0.15);\n",
              "      fill: #174EA6;\n",
              "    }\n",
              "\n",
              "    .colab-df-buttons div {\n",
              "      margin-bottom: 4px;\n",
              "    }\n",
              "\n",
              "    [theme=dark] .colab-df-convert {\n",
              "      background-color: #3B4455;\n",
              "      fill: #D2E3FC;\n",
              "    }\n",
              "\n",
              "    [theme=dark] .colab-df-convert:hover {\n",
              "      background-color: #434B5C;\n",
              "      box-shadow: 0px 1px 3px 1px rgba(0, 0, 0, 0.15);\n",
              "      filter: drop-shadow(0px 1px 2px rgba(0, 0, 0, 0.3));\n",
              "      fill: #FFFFFF;\n",
              "    }\n",
              "  </style>\n",
              "\n",
              "    <script>\n",
              "      const buttonEl =\n",
              "        document.querySelector('#df-93024989-9c13-44d6-bd59-2c9a47c6a81d button.colab-df-convert');\n",
              "      buttonEl.style.display =\n",
              "        google.colab.kernel.accessAllowed ? 'block' : 'none';\n",
              "\n",
              "      async function convertToInteractive(key) {\n",
              "        const element = document.querySelector('#df-93024989-9c13-44d6-bd59-2c9a47c6a81d');\n",
              "        const dataTable =\n",
              "          await google.colab.kernel.invokeFunction('convertToInteractive',\n",
              "                                                    [key], {});\n",
              "        if (!dataTable) return;\n",
              "\n",
              "        const docLinkHtml = 'Like what you see? Visit the ' +\n",
              "          '<a target=\"_blank\" href=https://colab.research.google.com/notebooks/data_table.ipynb>data table notebook</a>'\n",
              "          + ' to learn more about interactive tables.';\n",
              "        element.innerHTML = '';\n",
              "        dataTable['output_type'] = 'display_data';\n",
              "        await google.colab.output.renderOutput(dataTable, element);\n",
              "        const docLink = document.createElement('div');\n",
              "        docLink.innerHTML = docLinkHtml;\n",
              "        element.appendChild(docLink);\n",
              "      }\n",
              "    </script>\n",
              "  </div>\n",
              "\n",
              "\n",
              "<div id=\"df-ef9cb5f1-54a1-45ea-8558-5ed5430d347f\">\n",
              "  <button class=\"colab-df-quickchart\" onclick=\"quickchart('df-ef9cb5f1-54a1-45ea-8558-5ed5430d347f')\"\n",
              "            title=\"Suggest charts\"\n",
              "            style=\"display:none;\">\n",
              "\n",
              "<svg xmlns=\"http://www.w3.org/2000/svg\" height=\"24px\"viewBox=\"0 0 24 24\"\n",
              "     width=\"24px\">\n",
              "    <g>\n",
              "        <path d=\"M19 3H5c-1.1 0-2 .9-2 2v14c0 1.1.9 2 2 2h14c1.1 0 2-.9 2-2V5c0-1.1-.9-2-2-2zM9 17H7v-7h2v7zm4 0h-2V7h2v10zm4 0h-2v-4h2v4z\"/>\n",
              "    </g>\n",
              "</svg>\n",
              "  </button>\n",
              "\n",
              "<style>\n",
              "  .colab-df-quickchart {\n",
              "      --bg-color: #E8F0FE;\n",
              "      --fill-color: #1967D2;\n",
              "      --hover-bg-color: #E2EBFA;\n",
              "      --hover-fill-color: #174EA6;\n",
              "      --disabled-fill-color: #AAA;\n",
              "      --disabled-bg-color: #DDD;\n",
              "  }\n",
              "\n",
              "  [theme=dark] .colab-df-quickchart {\n",
              "      --bg-color: #3B4455;\n",
              "      --fill-color: #D2E3FC;\n",
              "      --hover-bg-color: #434B5C;\n",
              "      --hover-fill-color: #FFFFFF;\n",
              "      --disabled-bg-color: #3B4455;\n",
              "      --disabled-fill-color: #666;\n",
              "  }\n",
              "\n",
              "  .colab-df-quickchart {\n",
              "    background-color: var(--bg-color);\n",
              "    border: none;\n",
              "    border-radius: 50%;\n",
              "    cursor: pointer;\n",
              "    display: none;\n",
              "    fill: var(--fill-color);\n",
              "    height: 32px;\n",
              "    padding: 0;\n",
              "    width: 32px;\n",
              "  }\n",
              "\n",
              "  .colab-df-quickchart:hover {\n",
              "    background-color: var(--hover-bg-color);\n",
              "    box-shadow: 0 1px 2px rgba(60, 64, 67, 0.3), 0 1px 3px 1px rgba(60, 64, 67, 0.15);\n",
              "    fill: var(--button-hover-fill-color);\n",
              "  }\n",
              "\n",
              "  .colab-df-quickchart-complete:disabled,\n",
              "  .colab-df-quickchart-complete:disabled:hover {\n",
              "    background-color: var(--disabled-bg-color);\n",
              "    fill: var(--disabled-fill-color);\n",
              "    box-shadow: none;\n",
              "  }\n",
              "\n",
              "  .colab-df-spinner {\n",
              "    border: 2px solid var(--fill-color);\n",
              "    border-color: transparent;\n",
              "    border-bottom-color: var(--fill-color);\n",
              "    animation:\n",
              "      spin 1s steps(1) infinite;\n",
              "  }\n",
              "\n",
              "  @keyframes spin {\n",
              "    0% {\n",
              "      border-color: transparent;\n",
              "      border-bottom-color: var(--fill-color);\n",
              "      border-left-color: var(--fill-color);\n",
              "    }\n",
              "    20% {\n",
              "      border-color: transparent;\n",
              "      border-left-color: var(--fill-color);\n",
              "      border-top-color: var(--fill-color);\n",
              "    }\n",
              "    30% {\n",
              "      border-color: transparent;\n",
              "      border-left-color: var(--fill-color);\n",
              "      border-top-color: var(--fill-color);\n",
              "      border-right-color: var(--fill-color);\n",
              "    }\n",
              "    40% {\n",
              "      border-color: transparent;\n",
              "      border-right-color: var(--fill-color);\n",
              "      border-top-color: var(--fill-color);\n",
              "    }\n",
              "    60% {\n",
              "      border-color: transparent;\n",
              "      border-right-color: var(--fill-color);\n",
              "    }\n",
              "    80% {\n",
              "      border-color: transparent;\n",
              "      border-right-color: var(--fill-color);\n",
              "      border-bottom-color: var(--fill-color);\n",
              "    }\n",
              "    90% {\n",
              "      border-color: transparent;\n",
              "      border-bottom-color: var(--fill-color);\n",
              "    }\n",
              "  }\n",
              "</style>\n",
              "\n",
              "  <script>\n",
              "    async function quickchart(key) {\n",
              "      const quickchartButtonEl =\n",
              "        document.querySelector('#' + key + ' button');\n",
              "      quickchartButtonEl.disabled = true;  // To prevent multiple clicks.\n",
              "      quickchartButtonEl.classList.add('colab-df-spinner');\n",
              "      try {\n",
              "        const charts = await google.colab.kernel.invokeFunction(\n",
              "            'suggestCharts', [key], {});\n",
              "      } catch (error) {\n",
              "        console.error('Error during call to suggestCharts:', error);\n",
              "      }\n",
              "      quickchartButtonEl.classList.remove('colab-df-spinner');\n",
              "      quickchartButtonEl.classList.add('colab-df-quickchart-complete');\n",
              "    }\n",
              "    (() => {\n",
              "      let quickchartButtonEl =\n",
              "        document.querySelector('#df-ef9cb5f1-54a1-45ea-8558-5ed5430d347f button');\n",
              "      quickchartButtonEl.style.display =\n",
              "        google.colab.kernel.accessAllowed ? 'block' : 'none';\n",
              "    })();\n",
              "  </script>\n",
              "</div>\n",
              "\n",
              "  <div id=\"id_b8671c69-9832-4615-8857-dcdbaee5c314\">\n",
              "    <style>\n",
              "      .colab-df-generate {\n",
              "        background-color: #E8F0FE;\n",
              "        border: none;\n",
              "        border-radius: 50%;\n",
              "        cursor: pointer;\n",
              "        display: none;\n",
              "        fill: #1967D2;\n",
              "        height: 32px;\n",
              "        padding: 0 0 0 0;\n",
              "        width: 32px;\n",
              "      }\n",
              "\n",
              "      .colab-df-generate:hover {\n",
              "        background-color: #E2EBFA;\n",
              "        box-shadow: 0px 1px 2px rgba(60, 64, 67, 0.3), 0px 1px 3px 1px rgba(60, 64, 67, 0.15);\n",
              "        fill: #174EA6;\n",
              "      }\n",
              "\n",
              "      [theme=dark] .colab-df-generate {\n",
              "        background-color: #3B4455;\n",
              "        fill: #D2E3FC;\n",
              "      }\n",
              "\n",
              "      [theme=dark] .colab-df-generate:hover {\n",
              "        background-color: #434B5C;\n",
              "        box-shadow: 0px 1px 3px 1px rgba(0, 0, 0, 0.15);\n",
              "        filter: drop-shadow(0px 1px 2px rgba(0, 0, 0, 0.3));\n",
              "        fill: #FFFFFF;\n",
              "      }\n",
              "    </style>\n",
              "    <button class=\"colab-df-generate\" onclick=\"generateWithVariable('percent_missing')\"\n",
              "            title=\"Generate code using this dataframe.\"\n",
              "            style=\"display:none;\">\n",
              "\n",
              "  <svg xmlns=\"http://www.w3.org/2000/svg\" height=\"24px\"viewBox=\"0 0 24 24\"\n",
              "       width=\"24px\">\n",
              "    <path d=\"M7,19H8.4L18.45,9,17,7.55,7,17.6ZM5,21V16.75L18.45,3.32a2,2,0,0,1,2.83,0l1.4,1.43a1.91,1.91,0,0,1,.58,1.4,1.91,1.91,0,0,1-.58,1.4L9.25,21ZM18.45,9,17,7.55Zm-12,3A5.31,5.31,0,0,0,4.9,8.1,5.31,5.31,0,0,0,1,6.5,5.31,5.31,0,0,0,4.9,4.9,5.31,5.31,0,0,0,6.5,1,5.31,5.31,0,0,0,8.1,4.9,5.31,5.31,0,0,0,12,6.5,5.46,5.46,0,0,0,6.5,12Z\"/>\n",
              "  </svg>\n",
              "    </button>\n",
              "    <script>\n",
              "      (() => {\n",
              "      const buttonEl =\n",
              "        document.querySelector('#id_b8671c69-9832-4615-8857-dcdbaee5c314 button.colab-df-generate');\n",
              "      buttonEl.style.display =\n",
              "        google.colab.kernel.accessAllowed ? 'block' : 'none';\n",
              "\n",
              "      buttonEl.onclick = () => {\n",
              "        google.colab.notebook.generateWithVariable('percent_missing');\n",
              "      }\n",
              "      })();\n",
              "    </script>\n",
              "  </div>\n",
              "\n",
              "    </div>\n",
              "  </div>\n"
            ],
            "text/plain": [
              "                  missing\n",
              "GPA                   1.6\n",
              "Gender                0.0\n",
              "breakfast             0.0\n",
              "calories_chicken      0.0\n",
              "calories_day         15.2\n",
              "...                   ...\n",
              "type_sports          20.8\n",
              "veggies_day           0.0\n",
              "vitamins              0.0\n",
              "waffle_calories       0.0\n",
              "weight                1.6\n",
              "\n",
              "[61 rows x 1 columns]"
            ]
          },
          "execution_count": 8,
          "metadata": {},
          "output_type": "execute_result"
        }
      ],
      "source": [
        "percent_missing = percent_missing.rename(columns={0:'missing'})\n",
        "percent_missing"
      ]
    },
    {
      "cell_type": "code",
      "execution_count": null,
      "metadata": {
        "colab": {
          "base_uri": "https://localhost:8080/",
          "height": 689
        },
        "id": "KXet6_x-h3Dj",
        "outputId": "3a11acb8-1efc-4551-87c3-60a184ac93f0"
      },
      "outputs": [
        {
          "data": {
            "image/png": "[encoded data removed]",
            "text/plain": [
              "<Figure size 1000x500 with 1 Axes>"
            ]
          },
          "metadata": {},
          "output_type": "display_data"
        }
      ],
      "source": [
        "plt.figure(figsize=(10, 5))\n",
        "sns.barplot(data=percent_missing, x=percent_missing.index, y=\"missing\").set(title=\"Percentage of Missing values in the dataset\", xlabel=\"Column\")\n",
        "plt.xticks(rotation=90)\n",
        "plt.show()"
      ]
    },
    {
      "cell_type": "code",
      "execution_count": null,
      "metadata": {
        "colab": {
          "base_uri": "https://localhost:8080/"
        },
        "id": "xh_svCqUFTFW",
        "outputId": "333ca9da-1a33-4468-a6d7-51d7be1b790b"
      },
      "outputs": [
        {
          "data": {
            "text/plain": [
              "0"
            ]
          },
          "execution_count": 10,
          "metadata": {},
          "output_type": "execute_result"
        }
      ],
      "source": [
        "df.duplicated().sum()"
      ]
    },
    {
      "cell_type": "code",
      "execution_count": null,
      "metadata": {
        "colab": {
          "base_uri": "https://localhost:8080/",
          "height": 349
        },
        "id": "tzPt7BxenXvL",
        "outputId": "b51a5ff6-5f48-4a3c-c5b7-993eabbe20f9"
      },
      "outputs": [
        {
          "data": {
            "application/vnd.google.colaboratory.intrinsic+json": {
              "type": "dataframe"
            },
            "text/html": [
              "\n",
              "  <div id=\"df-5bbca236-7654-4aa5-87f1-2c07644c351b\" class=\"colab-df-container\">\n",
              "    <div>\n",
              "<style scoped>\n",
              "    .dataframe tbody tr th:only-of-type {\n",
              "        vertical-align: middle;\n",
              "    }\n",
              "\n",
              "    .dataframe tbody tr th {\n",
              "        vertical-align: top;\n",
              "    }\n",
              "\n",
              "    .dataframe thead th {\n",
              "        text-align: right;\n",
              "    }\n",
              "</style>\n",
              "<table border=\"1\" class=\"dataframe\">\n",
              "  <thead>\n",
              "    <tr style=\"text-align: right;\">\n",
              "      <th></th>\n",
              "      <th>Gender</th>\n",
              "      <th>breakfast</th>\n",
              "      <th>calories_chicken</th>\n",
              "      <th>calories_day</th>\n",
              "      <th>calories_scone</th>\n",
              "      <th>coffee</th>\n",
              "      <th>comfort_food_reasons_coded</th>\n",
              "      <th>cook</th>\n",
              "      <th>comfort_food_reasons_coded.1</th>\n",
              "      <th>cuisine</th>\n",
              "      <th>...</th>\n",
              "      <th>persian_food</th>\n",
              "      <th>self_perception_weight</th>\n",
              "      <th>soup</th>\n",
              "      <th>sports</th>\n",
              "      <th>thai_food</th>\n",
              "      <th>tortilla_calories</th>\n",
              "      <th>turkey_calories</th>\n",
              "      <th>veggies_day</th>\n",
              "      <th>vitamins</th>\n",
              "      <th>waffle_calories</th>\n",
              "    </tr>\n",
              "  </thead>\n",
              "  <tbody>\n",
              "    <tr>\n",
              "      <th>count</th>\n",
              "      <td>125.000000</td>\n",
              "      <td>125.000000</td>\n",
              "      <td>125.000000</td>\n",
              "      <td>106.000000</td>\n",
              "      <td>124.000000</td>\n",
              "      <td>125.00000</td>\n",
              "      <td>106.000000</td>\n",
              "      <td>122.000000</td>\n",
              "      <td>125.000000</td>\n",
              "      <td>108.000000</td>\n",
              "      <td>...</td>\n",
              "      <td>124.000000</td>\n",
              "      <td>124.000000</td>\n",
              "      <td>124.000000</td>\n",
              "      <td>123.000000</td>\n",
              "      <td>125.000000</td>\n",
              "      <td>124.000000</td>\n",
              "      <td>125.000000</td>\n",
              "      <td>125.000000</td>\n",
              "      <td>125.000000</td>\n",
              "      <td>125.000000</td>\n",
              "    </tr>\n",
              "    <tr>\n",
              "      <th>mean</th>\n",
              "      <td>1.392000</td>\n",
              "      <td>1.112000</td>\n",
              "      <td>577.320000</td>\n",
              "      <td>3.028302</td>\n",
              "      <td>505.241935</td>\n",
              "      <td>1.75200</td>\n",
              "      <td>2.698113</td>\n",
              "      <td>2.786885</td>\n",
              "      <td>2.688000</td>\n",
              "      <td>1.388889</td>\n",
              "      <td>...</td>\n",
              "      <td>2.806452</td>\n",
              "      <td>3.120968</td>\n",
              "      <td>1.217742</td>\n",
              "      <td>1.390244</td>\n",
              "      <td>3.336000</td>\n",
              "      <td>947.580645</td>\n",
              "      <td>555.040000</td>\n",
              "      <td>4.008000</td>\n",
              "      <td>1.512000</td>\n",
              "      <td>1073.400000</td>\n",
              "    </tr>\n",
              "    <tr>\n",
              "      <th>std</th>\n",
              "      <td>0.490161</td>\n",
              "      <td>0.316636</td>\n",
              "      <td>131.214156</td>\n",
              "      <td>0.639308</td>\n",
              "      <td>230.840506</td>\n",
              "      <td>0.43359</td>\n",
              "      <td>1.972042</td>\n",
              "      <td>1.038351</td>\n",
              "      <td>1.910987</td>\n",
              "      <td>0.974759</td>\n",
              "      <td>...</td>\n",
              "      <td>1.423824</td>\n",
              "      <td>1.115980</td>\n",
              "      <td>0.414385</td>\n",
              "      <td>0.489800</td>\n",
              "      <td>1.436528</td>\n",
              "      <td>202.090179</td>\n",
              "      <td>152.370379</td>\n",
              "      <td>1.081337</td>\n",
              "      <td>0.501867</td>\n",
              "      <td>248.667092</td>\n",
              "    </tr>\n",
              "    <tr>\n",
              "      <th>min</th>\n",
              "      <td>1.000000</td>\n",
              "      <td>1.000000</td>\n",
              "      <td>265.000000</td>\n",
              "      <td>2.000000</td>\n",
              "      <td>315.000000</td>\n",
              "      <td>1.00000</td>\n",
              "      <td>1.000000</td>\n",
              "      <td>1.000000</td>\n",
              "      <td>1.000000</td>\n",
              "      <td>1.000000</td>\n",
              "      <td>...</td>\n",
              "      <td>1.000000</td>\n",
              "      <td>1.000000</td>\n",
              "      <td>1.000000</td>\n",
              "      <td>1.000000</td>\n",
              "      <td>1.000000</td>\n",
              "      <td>580.000000</td>\n",
              "      <td>345.000000</td>\n",
              "      <td>1.000000</td>\n",
              "      <td>1.000000</td>\n",
              "      <td>575.000000</td>\n",
              "    </tr>\n",
              "    <tr>\n",
              "      <th>25%</th>\n",
              "      <td>1.000000</td>\n",
              "      <td>1.000000</td>\n",
              "      <td>430.000000</td>\n",
              "      <td>3.000000</td>\n",
              "      <td>420.000000</td>\n",
              "      <td>2.00000</td>\n",
              "      <td>2.000000</td>\n",
              "      <td>2.000000</td>\n",
              "      <td>2.000000</td>\n",
              "      <td>1.000000</td>\n",
              "      <td>...</td>\n",
              "      <td>2.000000</td>\n",
              "      <td>2.000000</td>\n",
              "      <td>1.000000</td>\n",
              "      <td>1.000000</td>\n",
              "      <td>2.000000</td>\n",
              "      <td>725.000000</td>\n",
              "      <td>500.000000</td>\n",
              "      <td>3.000000</td>\n",
              "      <td>1.000000</td>\n",
              "      <td>900.000000</td>\n",
              "    </tr>\n",
              "    <tr>\n",
              "      <th>50%</th>\n",
              "      <td>1.000000</td>\n",
              "      <td>1.000000</td>\n",
              "      <td>610.000000</td>\n",
              "      <td>3.000000</td>\n",
              "      <td>420.000000</td>\n",
              "      <td>2.00000</td>\n",
              "      <td>2.000000</td>\n",
              "      <td>3.000000</td>\n",
              "      <td>2.000000</td>\n",
              "      <td>1.000000</td>\n",
              "      <td>...</td>\n",
              "      <td>3.000000</td>\n",
              "      <td>3.000000</td>\n",
              "      <td>1.000000</td>\n",
              "      <td>1.000000</td>\n",
              "      <td>3.000000</td>\n",
              "      <td>940.000000</td>\n",
              "      <td>500.000000</td>\n",
              "      <td>4.000000</td>\n",
              "      <td>2.000000</td>\n",
              "      <td>900.000000</td>\n",
              "    </tr>\n",
              "    <tr>\n",
              "      <th>75%</th>\n",
              "      <td>2.000000</td>\n",
              "      <td>1.000000</td>\n",
              "      <td>720.000000</td>\n",
              "      <td>3.000000</td>\n",
              "      <td>420.000000</td>\n",
              "      <td>2.00000</td>\n",
              "      <td>3.000000</td>\n",
              "      <td>3.000000</td>\n",
              "      <td>3.000000</td>\n",
              "      <td>1.000000</td>\n",
              "      <td>...</td>\n",
              "      <td>4.000000</td>\n",
              "      <td>4.000000</td>\n",
              "      <td>1.000000</td>\n",
              "      <td>2.000000</td>\n",
              "      <td>5.000000</td>\n",
              "      <td>1165.000000</td>\n",
              "      <td>690.000000</td>\n",
              "      <td>5.000000</td>\n",
              "      <td>2.000000</td>\n",
              "      <td>1315.000000</td>\n",
              "    </tr>\n",
              "    <tr>\n",
              "      <th>max</th>\n",
              "      <td>2.000000</td>\n",
              "      <td>2.000000</td>\n",
              "      <td>720.000000</td>\n",
              "      <td>4.000000</td>\n",
              "      <td>980.000000</td>\n",
              "      <td>2.00000</td>\n",
              "      <td>9.000000</td>\n",
              "      <td>5.000000</td>\n",
              "      <td>9.000000</td>\n",
              "      <td>6.000000</td>\n",
              "      <td>...</td>\n",
              "      <td>5.000000</td>\n",
              "      <td>6.000000</td>\n",
              "      <td>2.000000</td>\n",
              "      <td>2.000000</td>\n",
              "      <td>5.000000</td>\n",
              "      <td>1165.000000</td>\n",
              "      <td>850.000000</td>\n",
              "      <td>5.000000</td>\n",
              "      <td>2.000000</td>\n",
              "      <td>1315.000000</td>\n",
              "    </tr>\n",
              "  </tbody>\n",
              "</table>\n",
              "<p>8 rows × 47 columns</p>\n",
              "</div>\n",
              "    <div class=\"colab-df-buttons\">\n",
              "\n",
              "  <div class=\"colab-df-container\">\n",
              "    <button class=\"colab-df-convert\" onclick=\"convertToInteractive('df-5bbca236-7654-4aa5-87f1-2c07644c351b')\"\n",
              "            title=\"Convert this dataframe to an interactive table.\"\n",
              "            style=\"display:none;\">\n",
              "\n",
              "  <svg xmlns=\"http://www.w3.org/2000/svg\" height=\"24px\" viewBox=\"0 -960 960 960\">\n",
              "    <path d=\"M120-120v-720h720v720H120Zm60-500h600v-160H180v160Zm220 220h160v-160H400v160Zm0 220h160v-160H400v160ZM180-400h160v-160H180v160Zm440 0h160v-160H620v160ZM180-180h160v-160H180v160Zm440 0h160v-160H620v160Z\"/>\n",
              "  </svg>\n",
              "    </button>\n",
              "\n",
              "  <style>\n",
              "    .colab-df-container {\n",
              "      display:flex;\n",
              "      gap: 12px;\n",
              "    }\n",
              "\n",
              "    .colab-df-convert {\n",
              "      background-color: #E8F0FE;\n",
              "      border: none;\n",
              "      border-radius: 50%;\n",
              "      cursor: pointer;\n",
              "      display: none;\n",
              "      fill: #1967D2;\n",
              "      height: 32px;\n",
              "      padding: 0 0 0 0;\n",
              "      width: 32px;\n",
              "    }\n",
              "\n",
              "    .colab-df-convert:hover {\n",
              "      background-color: #E2EBFA;\n",
              "      box-shadow: 0px 1px 2px rgba(60, 64, 67, 0.3), 0px 1px 3px 1px rgba(60, 64, 67, 0.15);\n",
              "      fill: #174EA6;\n",
              "    }\n",
              "\n",
              "    .colab-df-buttons div {\n",
              "      margin-bottom: 4px;\n",
              "    }\n",
              "\n",
              "    [theme=dark] .colab-df-convert {\n",
              "      background-color: #3B4455;\n",
              "      fill: #D2E3FC;\n",
              "    }\n",
              "\n",
              "    [theme=dark] .colab-df-convert:hover {\n",
              "      background-color: #434B5C;\n",
              "      box-shadow: 0px 1px 3px 1px rgba(0, 0, 0, 0.15);\n",
              "      filter: drop-shadow(0px 1px 2px rgba(0, 0, 0, 0.3));\n",
              "      fill: #FFFFFF;\n",
              "    }\n",
              "  </style>\n",
              "\n",
              "    <script>\n",
              "      const buttonEl =\n",
              "        document.querySelector('#df-5bbca236-7654-4aa5-87f1-2c07644c351b button.colab-df-convert');\n",
              "      buttonEl.style.display =\n",
              "        google.colab.kernel.accessAllowed ? 'block' : 'none';\n",
              "\n",
              "      async function convertToInteractive(key) {\n",
              "        const element = document.querySelector('#df-5bbca236-7654-4aa5-87f1-2c07644c351b');\n",
              "        const dataTable =\n",
              "          await google.colab.kernel.invokeFunction('convertToInteractive',\n",
              "                                                    [key], {});\n",
              "        if (!dataTable) return;\n",
              "\n",
              "        const docLinkHtml = 'Like what you see? Visit the ' +\n",
              "          '<a target=\"_blank\" href=https://colab.research.google.com/notebooks/data_table.ipynb>data table notebook</a>'\n",
              "          + ' to learn more about interactive tables.';\n",
              "        element.innerHTML = '';\n",
              "        dataTable['output_type'] = 'display_data';\n",
              "        await google.colab.output.renderOutput(dataTable, element);\n",
              "        const docLink = document.createElement('div');\n",
              "        docLink.innerHTML = docLinkHtml;\n",
              "        element.appendChild(docLink);\n",
              "      }\n",
              "    </script>\n",
              "  </div>\n",
              "\n",
              "\n",
              "<div id=\"df-14592ced-7193-47ca-a603-6753e0fe4e92\">\n",
              "  <button class=\"colab-df-quickchart\" onclick=\"quickchart('df-14592ced-7193-47ca-a603-6753e0fe4e92')\"\n",
              "            title=\"Suggest charts\"\n",
              "            style=\"display:none;\">\n",
              "\n",
              "<svg xmlns=\"http://www.w3.org/2000/svg\" height=\"24px\"viewBox=\"0 0 24 24\"\n",
              "     width=\"24px\">\n",
              "    <g>\n",
              "        <path d=\"M19 3H5c-1.1 0-2 .9-2 2v14c0 1.1.9 2 2 2h14c1.1 0 2-.9 2-2V5c0-1.1-.9-2-2-2zM9 17H7v-7h2v7zm4 0h-2V7h2v10zm4 0h-2v-4h2v4z\"/>\n",
              "    </g>\n",
              "</svg>\n",
              "  </button>\n",
              "\n",
              "<style>\n",
              "  .colab-df-quickchart {\n",
              "      --bg-color: #E8F0FE;\n",
              "      --fill-color: #1967D2;\n",
              "      --hover-bg-color: #E2EBFA;\n",
              "      --hover-fill-color: #174EA6;\n",
              "      --disabled-fill-color: #AAA;\n",
              "      --disabled-bg-color: #DDD;\n",
              "  }\n",
              "\n",
              "  [theme=dark] .colab-df-quickchart {\n",
              "      --bg-color: #3B4455;\n",
              "      --fill-color: #D2E3FC;\n",
              "      --hover-bg-color: #434B5C;\n",
              "      --hover-fill-color: #FFFFFF;\n",
              "      --disabled-bg-color: #3B4455;\n",
              "      --disabled-fill-color: #666;\n",
              "  }\n",
              "\n",
              "  .colab-df-quickchart {\n",
              "    background-color: var(--bg-color);\n",
              "    border: none;\n",
              "    border-radius: 50%;\n",
              "    cursor: pointer;\n",
              "    display: none;\n",
              "    fill: var(--fill-color);\n",
              "    height: 32px;\n",
              "    padding: 0;\n",
              "    width: 32px;\n",
              "  }\n",
              "\n",
              "  .colab-df-quickchart:hover {\n",
              "    background-color: var(--hover-bg-color);\n",
              "    box-shadow: 0 1px 2px rgba(60, 64, 67, 0.3), 0 1px 3px 1px rgba(60, 64, 67, 0.15);\n",
              "    fill: var(--button-hover-fill-color);\n",
              "  }\n",
              "\n",
              "  .colab-df-quickchart-complete:disabled,\n",
              "  .colab-df-quickchart-complete:disabled:hover {\n",
              "    background-color: var(--disabled-bg-color);\n",
              "    fill: var(--disabled-fill-color);\n",
              "    box-shadow: none;\n",
              "  }\n",
              "\n",
              "  .colab-df-spinner {\n",
              "    border: 2px solid var(--fill-color);\n",
              "    border-color: transparent;\n",
              "    border-bottom-color: var(--fill-color);\n",
              "    animation:\n",
              "      spin 1s steps(1) infinite;\n",
              "  }\n",
              "\n",
              "  @keyframes spin {\n",
              "    0% {\n",
              "      border-color: transparent;\n",
              "      border-bottom-color: var(--fill-color);\n",
              "      border-left-color: var(--fill-color);\n",
              "    }\n",
              "    20% {\n",
              "      border-color: transparent;\n",
              "      border-left-color: var(--fill-color);\n",
              "      border-top-color: var(--fill-color);\n",
              "    }\n",
              "    30% {\n",
              "      border-color: transparent;\n",
              "      border-left-color: var(--fill-color);\n",
              "      border-top-color: var(--fill-color);\n",
              "      border-right-color: var(--fill-color);\n",
              "    }\n",
              "    40% {\n",
              "      border-color: transparent;\n",
              "      border-right-color: var(--fill-color);\n",
              "      border-top-color: var(--fill-color);\n",
              "    }\n",
              "    60% {\n",
              "      border-color: transparent;\n",
              "      border-right-color: var(--fill-color);\n",
              "    }\n",
              "    80% {\n",
              "      border-color: transparent;\n",
              "      border-right-color: var(--fill-color);\n",
              "      border-bottom-color: var(--fill-color);\n",
              "    }\n",
              "    90% {\n",
              "      border-color: transparent;\n",
              "      border-bottom-color: var(--fill-color);\n",
              "    }\n",
              "  }\n",
              "</style>\n",
              "\n",
              "  <script>\n",
              "    async function quickchart(key) {\n",
              "      const quickchartButtonEl =\n",
              "        document.querySelector('#' + key + ' button');\n",
              "      quickchartButtonEl.disabled = true;  // To prevent multiple clicks.\n",
              "      quickchartButtonEl.classList.add('colab-df-spinner');\n",
              "      try {\n",
              "        const charts = await google.colab.kernel.invokeFunction(\n",
              "            'suggestCharts', [key], {});\n",
              "      } catch (error) {\n",
              "        console.error('Error during call to suggestCharts:', error);\n",
              "      }\n",
              "      quickchartButtonEl.classList.remove('colab-df-spinner');\n",
              "      quickchartButtonEl.classList.add('colab-df-quickchart-complete');\n",
              "    }\n",
              "    (() => {\n",
              "      let quickchartButtonEl =\n",
              "        document.querySelector('#df-14592ced-7193-47ca-a603-6753e0fe4e92 button');\n",
              "      quickchartButtonEl.style.display =\n",
              "        google.colab.kernel.accessAllowed ? 'block' : 'none';\n",
              "    })();\n",
              "  </script>\n",
              "</div>\n",
              "\n",
              "    </div>\n",
              "  </div>\n"
            ],
            "text/plain": [
              "           Gender   breakfast  calories_chicken  calories_day  calories_scone  \\\n",
              "count  125.000000  125.000000        125.000000    106.000000      124.000000   \n",
              "mean     1.392000    1.112000        577.320000      3.028302      505.241935   \n",
              "std      0.490161    0.316636        131.214156      0.639308      230.840506   \n",
              "min      1.000000    1.000000        265.000000      2.000000      315.000000   \n",
              "25%      1.000000    1.000000        430.000000      3.000000      420.000000   \n",
              "50%      1.000000    1.000000        610.000000      3.000000      420.000000   \n",
              "75%      2.000000    1.000000        720.000000      3.000000      420.000000   \n",
              "max      2.000000    2.000000        720.000000      4.000000      980.000000   \n",
              "\n",
              "          coffee  comfort_food_reasons_coded        cook  \\\n",
              "count  125.00000                  106.000000  122.000000   \n",
              "mean     1.75200                    2.698113    2.786885   \n",
              "std      0.43359                    1.972042    1.038351   \n",
              "min      1.00000                    1.000000    1.000000   \n",
              "25%      2.00000                    2.000000    2.000000   \n",
              "50%      2.00000                    2.000000    3.000000   \n",
              "75%      2.00000                    3.000000    3.000000   \n",
              "max      2.00000                    9.000000    5.000000   \n",
              "\n",
              "       comfort_food_reasons_coded.1     cuisine  ...  persian_food  \\\n",
              "count                    125.000000  108.000000  ...    124.000000   \n",
              "mean                       2.688000    1.388889  ...      2.806452   \n",
              "std                        1.910987    0.974759  ...      1.423824   \n",
              "min                        1.000000    1.000000  ...      1.000000   \n",
              "25%                        2.000000    1.000000  ...      2.000000   \n",
              "50%                        2.000000    1.000000  ...      3.000000   \n",
              "75%                        3.000000    1.000000  ...      4.000000   \n",
              "max                        9.000000    6.000000  ...      5.000000   \n",
              "\n",
              "       self_perception_weight        soup      sports   thai_food  \\\n",
              "count              124.000000  124.000000  123.000000  125.000000   \n",
              "mean                 3.120968    1.217742    1.390244    3.336000   \n",
              "std                  1.115980    0.414385    0.489800    1.436528   \n",
              "min                  1.000000    1.000000    1.000000    1.000000   \n",
              "25%                  2.000000    1.000000    1.000000    2.000000   \n",
              "50%                  3.000000    1.000000    1.000000    3.000000   \n",
              "75%                  4.000000    1.000000    2.000000    5.000000   \n",
              "max                  6.000000    2.000000    2.000000    5.000000   \n",
              "\n",
              "       tortilla_calories  turkey_calories  veggies_day    vitamins  \\\n",
              "count         124.000000       125.000000   125.000000  125.000000   \n",
              "mean          947.580645       555.040000     4.008000    1.512000   \n",
              "std           202.090179       152.370379     1.081337    0.501867   \n",
              "min           580.000000       345.000000     1.000000    1.000000   \n",
              "25%           725.000000       500.000000     3.000000    1.000000   \n",
              "50%           940.000000       500.000000     4.000000    2.000000   \n",
              "75%          1165.000000       690.000000     5.000000    2.000000   \n",
              "max          1165.000000       850.000000     5.000000    2.000000   \n",
              "\n",
              "       waffle_calories  \n",
              "count       125.000000  \n",
              "mean       1073.400000  \n",
              "std         248.667092  \n",
              "min         575.000000  \n",
              "25%         900.000000  \n",
              "50%         900.000000  \n",
              "75%        1315.000000  \n",
              "max        1315.000000  \n",
              "\n",
              "[8 rows x 47 columns]"
            ]
          },
          "execution_count": 11,
          "metadata": {},
          "output_type": "execute_result"
        }
      ],
      "source": [
        "df.describe()"
      ]
    },
    {
      "cell_type": "code",
      "execution_count": null,
      "metadata": {
        "colab": {
          "base_uri": "https://localhost:8080/"
        },
        "id": "Rf5vmGRiIiju",
        "outputId": "ae8a9f90-e540-485a-e363-af1affe62458"
      },
      "outputs": [
        {
          "data": {
            "text/plain": [
              "GPA                  2\n",
              "Gender               0\n",
              "breakfast            0\n",
              "calories_chicken     0\n",
              "calories_day         0\n",
              "                    ..\n",
              "type_sports         26\n",
              "veggies_day          0\n",
              "vitamins             0\n",
              "waffle_calories      0\n",
              "weight               2\n",
              "Length: 61, dtype: int64"
            ]
          },
          "execution_count": 12,
          "metadata": {},
          "output_type": "execute_result"
        }
      ],
      "source": [
        "df['calories_day'].fillna((df['calories_day'].mean()), inplace=True)\n",
        "df.isnull().sum()"
      ]
    },
    {
      "cell_type": "code",
      "execution_count": null,
      "metadata": {
        "colab": {
          "base_uri": "https://localhost:8080/"
        },
        "id": "w7ENfmHmJS1C",
        "outputId": "727030ff-e478-49a6-d085-4ff4d87798e8"
      },
      "outputs": [
        {
          "data": {
            "text/plain": [
              "GPA                  2\n",
              "Gender               0\n",
              "breakfast            0\n",
              "calories_chicken     0\n",
              "calories_day         0\n",
              "                    ..\n",
              "type_sports         26\n",
              "veggies_day          0\n",
              "vitamins             0\n",
              "waffle_calories      0\n",
              "weight               2\n",
              "Length: 61, dtype: int64"
            ]
          },
          "execution_count": 13,
          "metadata": {},
          "output_type": "execute_result"
        }
      ],
      "source": [
        "df['exercise'].fillna((df['exercise'].mode()[0]), inplace=True)\n",
        "df['cuisine'].fillna((df['cuisine'].mode()[0]), inplace=True)\n",
        "df.isnull().sum()"
      ]
    },
    {
      "cell_type": "code",
      "execution_count": null,
      "metadata": {
        "colab": {
          "base_uri": "https://localhost:8080/"
        },
        "id": "YPzOSGXUD8cd",
        "outputId": "48ac6b6d-63c3-4357-9422-7ca7219ad8ad"
      },
      "outputs": [
        {
          "data": {
            "text/plain": [
              "(125, 47)"
            ]
          },
          "execution_count": 14,
          "metadata": {},
          "output_type": "execute_result"
        }
      ],
      "source": [
        "df.drop(['comfort_food_reasons','diet_current', 'eating_changes', 'father_education', 'father_profession', 'fav_cuisine', 'healthy_meal', 'ideal_diet', 'meals_dinner_friend', 'mother_education', 'mother_profession', 'type_sports', 'comfort_food_reasons_coded', 'eating_changes_coded1'], axis=1, inplace=True)\n",
        "df.shape"
      ]
    },
    {
      "cell_type": "code",
      "execution_count": null,
      "metadata": {
        "id": "JHKFlNkxlRhQ"
      },
      "outputs": [],
      "source": [
        "df.rename(columns={'comfort_food_reasons_coded.1': 'comfort_food_reasons_coded'}, inplace=True)"
      ]
    },
    {
      "cell_type": "code",
      "execution_count": null,
      "metadata": {
        "colab": {
          "base_uri": "https://localhost:8080/"
        },
        "id": "8G0FFRHiIOTo",
        "outputId": "394e76a9-4a7f-4c40-e1dc-6ed99b754b5b"
      },
      "outputs": [
        {
          "data": {
            "text/plain": [
              "GPA                           2\n",
              "Gender                        0\n",
              "breakfast                     0\n",
              "calories_chicken              0\n",
              "calories_day                  0\n",
              "calories_scone                1\n",
              "coffee                        0\n",
              "comfort_food                  1\n",
              "cook                          3\n",
              "comfort_food_reasons_coded    0\n",
              "cuisine                       0\n",
              "diet_current_coded            0\n",
              "drink                         2\n",
              "eating_changes_coded          0\n",
              "eating_out                    0\n",
              "employment                    9\n",
              "ethnic_food                   0\n",
              "exercise                      0\n",
              "fav_cuisine_coded             0\n",
              "fav_food                      2\n",
              "food_childhood                1\n",
              "fries                         0\n",
              "fruit_day                     0\n",
              "grade_level                   0\n",
              "greek_food                    0\n",
              "healthy_feeling               0\n",
              "ideal_diet_coded              0\n",
              "income                        1\n",
              "indian_food                   0\n",
              "italian_food                  0\n",
              "life_rewarding                1\n",
              "marital_status                1\n",
              "nutritional_check             0\n",
              "on_off_campus                 1\n",
              "parents_cook                  0\n",
              "pay_meal_out                  0\n",
              "persian_food                  1\n",
              "self_perception_weight        1\n",
              "soup                          1\n",
              "sports                        2\n",
              "thai_food                     0\n",
              "tortilla_calories             1\n",
              "turkey_calories               0\n",
              "veggies_day                   0\n",
              "vitamins                      0\n",
              "waffle_calories               0\n",
              "weight                        2\n",
              "dtype: int64"
            ]
          },
          "execution_count": 16,
          "metadata": {},
          "output_type": "execute_result"
        }
      ],
      "source": [
        "df.isnull().sum()"
      ]
    },
    {
      "cell_type": "code",
      "execution_count": null,
      "metadata": {
        "colab": {
          "base_uri": "https://localhost:8080/"
        },
        "id": "h99_OqBOMsrV",
        "outputId": "cbc1f4dc-eab8-4f26-e661-3e7c430186c5"
      },
      "outputs": [
        {
          "name": "stdout",
          "output_type": "stream",
          "text": [
            "                count\n",
            "comfort_food         \n",
            "ice cream          42\n",
            "pizza              37\n",
            "chocolate          25\n",
            "chips              22\n",
            "cookies            17\n",
            "mac and cheese     11\n",
            "pasta               8\n",
            "cake                7\n",
            "popcorn             7\n",
            "french fries        6\n"
          ]
        }
      ],
      "source": [
        "# Convert all items to lowercase and split by comma, then stack them into individual rows\n",
        "comfort_foods_series = df['comfort_food'].str.lower().str.strip().str.split(',\\s*').explode()\n",
        "\n",
        "# Count the occurrences of each item\n",
        "comfort_food_item_counts = comfort_foods_series.value_counts()\n",
        "\n",
        "# Display the most popular items\n",
        "most_popular_items = pd.DataFrame(comfort_food_item_counts.head(10))  # Displaying the top 10 most popular items\n",
        "print(most_popular_items)"
      ]
    },
    {
      "cell_type": "code",
      "execution_count": null,
      "metadata": {
        "colab": {
          "base_uri": "https://localhost:8080/"
        },
        "id": "wLI1DpXTQhpr",
        "outputId": "ad33d7b5-b005-4d11-ea44-fd457857eab0"
      },
      "outputs": [
        {
          "name": "stdout",
          "output_type": "stream",
          "text": [
            "                 count\n",
            "food_childhood        \n",
            "pizza               31\n",
            "pasta               18\n",
            "spaghetti           11\n",
            "chicken             11\n",
            "steak               10\n",
            "mac and cheese       9\n",
            "chicken nuggets      6\n",
            "tacos                5\n",
            "lasagna              4\n",
            "mashed potatoes      4\n"
          ]
        }
      ],
      "source": [
        "# Convert all items to lowercase and split by comma, then stack them into individual rows\n",
        "childhood_food_series = df['food_childhood'].str.lower().str.strip().str.split(',\\s*').explode()\n",
        "\n",
        "# Count the occurrences of each item\n",
        "childhood_food_item_counts = childhood_food_series.value_counts()\n",
        "\n",
        "# Display the most popular items\n",
        "most_popular_childhood_items = pd.DataFrame(childhood_food_item_counts.head(10))  # Displaying the top 10 most popular items\n",
        "print(most_popular_childhood_items)"
      ]
    },
    {
      "cell_type": "code",
      "execution_count": null,
      "metadata": {
        "colab": {
          "base_uri": "https://localhost:8080/"
        },
        "id": "2J2Mw39XjH_c",
        "outputId": "568f9626-4ce8-4327-9273-d73f5b868fe9"
      },
      "outputs": [
        {
          "data": {
            "text/plain": [
              "GPA                           5\n",
              "Gender                        0\n",
              "breakfast                     0\n",
              "calories_chicken              0\n",
              "calories_day                  0\n",
              "calories_scone                1\n",
              "coffee                        0\n",
              "comfort_food                  1\n",
              "cook                          3\n",
              "comfort_food_reasons_coded    0\n",
              "cuisine                       0\n",
              "diet_current_coded            0\n",
              "drink                         2\n",
              "eating_changes_coded          0\n",
              "eating_out                    0\n",
              "employment                    9\n",
              "ethnic_food                   0\n",
              "exercise                      0\n",
              "fav_cuisine_coded             0\n",
              "fav_food                      2\n",
              "food_childhood                1\n",
              "fries                         0\n",
              "fruit_day                     0\n",
              "grade_level                   0\n",
              "greek_food                    0\n",
              "healthy_feeling               0\n",
              "ideal_diet_coded              0\n",
              "income                        1\n",
              "indian_food                   0\n",
              "italian_food                  0\n",
              "life_rewarding                1\n",
              "marital_status                1\n",
              "nutritional_check             0\n",
              "on_off_campus                 1\n",
              "parents_cook                  0\n",
              "pay_meal_out                  0\n",
              "persian_food                  1\n",
              "self_perception_weight        1\n",
              "soup                          1\n",
              "sports                        2\n",
              "thai_food                     0\n",
              "tortilla_calories             1\n",
              "turkey_calories               0\n",
              "veggies_day                   0\n",
              "vitamins                      0\n",
              "waffle_calories               0\n",
              "weight                        5\n",
              "dtype: int64"
            ]
          },
          "execution_count": 19,
          "metadata": {},
          "output_type": "execute_result"
        }
      ],
      "source": [
        "df['weight'] = pd.to_numeric(df['weight'], errors='coerce')\n",
        "df['GPA'] = pd.to_numeric(df['GPA'], errors='coerce')\n",
        "df.isnull().sum()"
      ]
    },
    {
      "cell_type": "code",
      "execution_count": null,
      "metadata": {
        "id": "rEG0INq4crSz"
      },
      "outputs": [],
      "source": [
        "df['parents_cook'] = df['parents_cook'].astype(float)"
      ]
    },
    {
      "cell_type": "code",
      "execution_count": null,
      "metadata": {
        "id": "H_POTie2kMAn"
      },
      "outputs": [],
      "source": [
        "df.dropna(inplace=True)"
      ]
    },
    {
      "cell_type": "code",
      "execution_count": null,
      "metadata": {
        "colab": {
          "base_uri": "https://localhost:8080/"
        },
        "id": "kHkjsuFQkanr",
        "outputId": "f7d09aa3-0433-46e7-fb18-72323a8e16b6"
      },
      "outputs": [
        {
          "data": {
            "text/plain": [
              "GPA                           0\n",
              "Gender                        0\n",
              "breakfast                     0\n",
              "calories_chicken              0\n",
              "calories_day                  0\n",
              "calories_scone                0\n",
              "coffee                        0\n",
              "comfort_food                  0\n",
              "cook                          0\n",
              "comfort_food_reasons_coded    0\n",
              "cuisine                       0\n",
              "diet_current_coded            0\n",
              "drink                         0\n",
              "eating_changes_coded          0\n",
              "eating_out                    0\n",
              "employment                    0\n",
              "ethnic_food                   0\n",
              "exercise                      0\n",
              "fav_cuisine_coded             0\n",
              "fav_food                      0\n",
              "food_childhood                0\n",
              "fries                         0\n",
              "fruit_day                     0\n",
              "grade_level                   0\n",
              "greek_food                    0\n",
              "healthy_feeling               0\n",
              "ideal_diet_coded              0\n",
              "income                        0\n",
              "indian_food                   0\n",
              "italian_food                  0\n",
              "life_rewarding                0\n",
              "marital_status                0\n",
              "nutritional_check             0\n",
              "on_off_campus                 0\n",
              "parents_cook                  0\n",
              "pay_meal_out                  0\n",
              "persian_food                  0\n",
              "self_perception_weight        0\n",
              "soup                          0\n",
              "sports                        0\n",
              "thai_food                     0\n",
              "tortilla_calories             0\n",
              "turkey_calories               0\n",
              "veggies_day                   0\n",
              "vitamins                      0\n",
              "waffle_calories               0\n",
              "weight                        0\n",
              "dtype: int64"
            ]
          },
          "execution_count": 22,
          "metadata": {},
          "output_type": "execute_result"
        }
      ],
      "source": [
        "df.isnull().sum()"
      ]
    },
    {
      "cell_type": "code",
      "execution_count": null,
      "metadata": {
        "colab": {
          "base_uri": "https://localhost:8080/"
        },
        "id": "JjDroWAhmWGF",
        "outputId": "e584d352-196b-4b78-83d1-2c4d96bb50e3"
      },
      "outputs": [
        {
          "data": {
            "text/plain": [
              "(97, 47)"
            ]
          },
          "execution_count": 23,
          "metadata": {},
          "output_type": "execute_result"
        }
      ],
      "source": [
        "df.shape"
      ]
    },
    {
      "cell_type": "code",
      "execution_count": null,
      "metadata": {
        "colab": {
          "base_uri": "https://localhost:8080/",
          "height": 472
        },
        "id": "wK0bt2LurKT8",
        "outputId": "8941475e-a800-4c8f-f649-a03a2ea32b97"
      },
      "outputs": [
        {
          "data": {
            "image/png": "[encoded data removed]",
            "text/plain": [
              "<Figure size 640x480 with 1 Axes>"
            ]
          },
          "metadata": {},
          "output_type": "display_data"
        }
      ],
      "source": [
        "sns.histplot(df, x='GPA', bins=[1, 2, 3, 4]).set(title='Distribution of GPA')\n",
        "plt.show()"
      ]
    },
    {
      "cell_type": "markdown",
      "metadata": {
        "id": "b8ImhO5ZYcBr"
      },
      "source": [
        "**Observation:**\n",
        "\n",
        " The histogram illustrates the Distribution of Student GPAs, ranging from 1 to 4.\n",
        "\n",
        " We can conclude that:\n",
        "\n",
        " Most students fall in the range of 2 to 4, greater concerntration of students is observed in the range 3 to 4 and fewer students from 2 to 3.\n",
        "\n",
        " No student falls in the range of 1 to 2."
      ]
    },
    {
      "cell_type": "code",
      "execution_count": null,
      "metadata": {
        "id": "p8xXwprSsMRl"
      },
      "outputs": [],
      "source": [
        "gender_dist = df['Gender'].value_counts()"
      ]
    },
    {
      "cell_type": "code",
      "execution_count": null,
      "metadata": {
        "colab": {
          "base_uri": "https://localhost:8080/",
          "height": 428
        },
        "id": "WzDP9WNbspP2",
        "outputId": "4d81c849-4243-4747-d573-00cbe82104a8"
      },
      "outputs": [
        {
          "data": {
            "image/png": "[encoded data removed]",
            "text/plain": [
              "<Figure size 640x480 with 1 Axes>"
            ]
          },
          "metadata": {},
          "output_type": "display_data"
        }
      ],
      "source": [
        "plt.pie(gender_dist, labels=['Female', 'Male'], autopct='%1.1f%%')\n",
        "plt.title('Distribution of Gender')\n",
        "plt.show()"
      ]
    },
    {
      "cell_type": "markdown",
      "metadata": {
        "id": "yRAkfRepcL7z"
      },
      "source": [
        "**Observation:**\n",
        "\n",
        "The above pie chart illustrates the distribution of students based gender.\n",
        "\n",
        "We can conlude that:\n",
        "\n",
        "The percentage of female students i.e 62.9% is higher than the male students i.e 37.1%."
      ]
    },
    {
      "cell_type": "code",
      "execution_count": null,
      "metadata": {
        "colab": {
          "base_uri": "https://localhost:8080/",
          "height": 472
        },
        "id": "RyZ3lK9ZtNnB",
        "outputId": "b708a726-530e-4505-c9cd-2bac40a19949"
      },
      "outputs": [
        {
          "data": {
            "image/png": "[encoded data removed]",
            "text/plain": [
              "<Figure size 640x480 with 1 Axes>"
            ]
          },
          "metadata": {},
          "output_type": "display_data"
        }
      ],
      "source": [
        "sns.countplot(data=df, x='coffee').set(title='Distribution of Coffee')\n",
        "plt.show()"
      ]
    },
    {
      "cell_type": "markdown",
      "metadata": {
        "id": "rSUmTtpEdBm6"
      },
      "source": [
        "**Observation:**\n",
        "\n",
        "The above countplot illustrates the Distribution of Coffee consumed by the students.\n",
        "\n",
        "We can conclude that:\n",
        "\n",
        "Consumption of Expresso is much higher than Frapuccino.\n",
        "\n",
        "Students prefer drinking expresso over frapaccuino."
      ]
    },
    {
      "cell_type": "code",
      "execution_count": null,
      "metadata": {
        "colab": {
          "base_uri": "https://localhost:8080/",
          "height": 549
        },
        "id": "2_9q4MDZJgom",
        "outputId": "623bbca7-0156-4e26-e765-770cc1a3a926"
      },
      "outputs": [
        {
          "data": {
            "image/png": "[encoded data removed]",
            "text/plain": [
              "<Figure size 640x480 with 1 Axes>"
            ]
          },
          "metadata": {},
          "output_type": "display_data"
        }
      ],
      "source": [
        "most_popular_items.plot(kind='bar')\n",
        "plt.show()"
      ]
    },
    {
      "cell_type": "markdown",
      "metadata": {
        "id": "ay1sUvC9eUI0"
      },
      "source": [
        "**Obsevation:**\n",
        "\n",
        "The above bar graph illustrates the most popular items amongst the students.\n",
        "\n",
        "We can conclude that:\n",
        "\n",
        "Students of fond of fast food items, ice cream consumption being the most followed by pizza,  chocolate chips etc"
      ]
    },
    {
      "cell_type": "code",
      "execution_count": null,
      "metadata": {
        "colab": {
          "base_uri": "https://localhost:8080/",
          "height": 556
        },
        "id": "3c23vn1fO2AY",
        "outputId": "778ca1ed-6ce6-409e-979d-070ac1f94002"
      },
      "outputs": [
        {
          "data": {
            "image/png": "[encoded data removed]",
            "text/plain": [
              "<Figure size 640x480 with 1 Axes>"
            ]
          },
          "metadata": {},
          "output_type": "display_data"
        }
      ],
      "source": [
        "most_popular_childhood_items.plot(kind='bar')\n",
        "plt.show()"
      ]
    },
    {
      "cell_type": "markdown",
      "metadata": {
        "id": "QQpBFhSPfM4C"
      },
      "source": [
        "**Obsevation:**\n",
        "\n",
        "The above bar graph illustrates the most popular items amongst the students during their childhood.\n",
        "\n",
        "We can conclude that:\n",
        "\n",
        "Students of fond of fast food items, pizza consumption being the most followed by pasta, spaghetti etc"
      ]
    },
    {
      "cell_type": "markdown",
      "metadata": {
        "id": "yz43PhPRfbuK"
      },
      "source": [
        "**From the above two graphs we can conclude that the students liking hasn't changed much. They like eating Fast Food**"
      ]
    },
    {
      "cell_type": "code",
      "execution_count": null,
      "metadata": {
        "colab": {
          "base_uri": "https://localhost:8080/"
        },
        "id": "9smXgs2JRrni",
        "outputId": "ae5d74ab-e25e-4636-8a88-c554ad5595e9"
      },
      "outputs": [
        {
          "data": {
            "text/plain": [
              "Index(['GPA', 'Gender', 'breakfast', 'calories_chicken', 'calories_day',\n",
              "       'calories_scone', 'coffee', 'comfort_food', 'cook',\n",
              "       'comfort_food_reasons_coded', 'cuisine', 'diet_current_coded', 'drink',\n",
              "       'eating_changes_coded', 'eating_out', 'employment', 'ethnic_food',\n",
              "       'exercise', 'fav_cuisine_coded', 'fav_food', 'food_childhood', 'fries',\n",
              "       'fruit_day', 'grade_level', 'greek_food', 'healthy_feeling',\n",
              "       'ideal_diet_coded', 'income', 'indian_food', 'italian_food',\n",
              "       'life_rewarding', 'marital_status', 'nutritional_check',\n",
              "       'on_off_campus', 'parents_cook', 'pay_meal_out', 'persian_food',\n",
              "       'self_perception_weight', 'soup', 'sports', 'thai_food',\n",
              "       'tortilla_calories', 'turkey_calories', 'veggies_day', 'vitamins',\n",
              "       'waffle_calories', 'weight'],\n",
              "      dtype='object')"
            ]
          },
          "execution_count": 30,
          "metadata": {},
          "output_type": "execute_result"
        }
      ],
      "source": [
        "df.columns"
      ]
    },
    {
      "cell_type": "code",
      "execution_count": null,
      "metadata": {
        "colab": {
          "base_uri": "https://localhost:8080/",
          "height": 450
        },
        "id": "o3wHNyHUQFVZ",
        "outputId": "4ea221ff-61f3-459a-a824-09d2ee1f292b"
      },
      "outputs": [
        {
          "data": {
            "image/png": "[encoded data removed]",
            "text/plain": [
              "<Figure size 640x480 with 1 Axes>"
            ]
          },
          "metadata": {},
          "output_type": "display_data"
        }
      ],
      "source": [
        "sns.countplot(data=df, x='eating_out', hue='on_off_campus')\n",
        "plt.show()"
      ]
    },
    {
      "cell_type": "markdown",
      "metadata": {
        "id": "T4Of2wLEgxEs"
      },
      "source": [
        "**Observation:**\n",
        "\n",
        "The above countplot represents the relationship between living situation of the student and how frequently the student eats out.\n",
        "\n",
        "We can conclude that:\n",
        "\n",
        "Eating out\n",
        "\n",
        "1 --> Never eats out\n",
        "\n",
        "2 --> 1-2 a week\n",
        "\n",
        "3 --> 2-3 a week\n",
        "\n",
        "4 --> 3-5 a week\n",
        "\n",
        "5 --> Everyday eats out\n",
        "\n",
        "Mostly  all students espeacially students living on campus eat out 2-3 a week .\n",
        "\n",
        "Students living with their family or have their own house prefer eating home cooked food they eat out very less.\n",
        "\n",
        "\n",
        "\n",
        "\n",
        "\n"
      ]
    },
    {
      "cell_type": "code",
      "execution_count": null,
      "metadata": {
        "colab": {
          "base_uri": "https://localhost:8080/"
        },
        "id": "HsslxKT7SfVE",
        "outputId": "16367fdd-19d0-4fa1-d3be-43a721268fd1"
      },
      "outputs": [
        {
          "data": {
            "text/plain": [
              "count     97.000000\n",
              "mean     157.010309\n",
              "std       29.807890\n",
              "min      105.000000\n",
              "25%      135.000000\n",
              "50%      155.000000\n",
              "75%      175.000000\n",
              "max      264.000000\n",
              "Name: weight, dtype: float64"
            ]
          },
          "execution_count": 32,
          "metadata": {},
          "output_type": "execute_result"
        }
      ],
      "source": [
        "df['weight'].describe()"
      ]
    },
    {
      "cell_type": "code",
      "execution_count": null,
      "metadata": {
        "colab": {
          "base_uri": "https://localhost:8080/",
          "height": 411
        },
        "id": "0bCMLYXfSCZp",
        "outputId": "1363d396-fcfa-457d-a380-d536a1855550"
      },
      "outputs": [
        {
          "data": {
            "image/png": "[encoded data removed]",
            "text/plain": [
              "<Figure size 640x480 with 1 Axes>"
            ]
          },
          "metadata": {},
          "output_type": "display_data"
        }
      ],
      "source": [
        "sns.boxplot(data=df, y='weight')\n",
        "plt.show()"
      ]
    },
    {
      "cell_type": "markdown",
      "metadata": {
        "id": "MDv0f1XGkKr3"
      },
      "source": [
        "**Observation:**\n",
        "\n",
        "The above box plot illustrates the weight distribution of the students.\n",
        "\n",
        "We can conclude that:\n",
        "\n",
        "The mean weight of the students lies around at 160.\n",
        "\n",
        "The first quartile of  weight of the students lies around at 140.\n",
        "\n",
        "The third quartile of  weight of the students lies around at 180.\n",
        "\n",
        "The range of the weight is from 100 to 220.\n",
        "\n",
        "It consist of two ouliers.\n",
        "\n",
        "\n",
        "\n",
        "\n"
      ]
    },
    {
      "cell_type": "code",
      "execution_count": null,
      "metadata": {
        "colab": {
          "base_uri": "https://localhost:8080/",
          "height": 331
        },
        "id": "Lat_0_kgUWG7",
        "outputId": "61d3db55-1600-4c96-9890-63b4bbfa39c4"
      },
      "outputs": [
        {
          "data": {
            "application/vnd.google.colaboratory.intrinsic+json": {
              "summary": "{\n  \"name\": \"comfort_food_reasons\",\n  \"rows\": 8,\n  \"fields\": [\n    {\n      \"column\": \"comfort_food_reasons_coded\",\n      \"properties\": {\n        \"dtype\": \"number\",\n        \"std\": 2,\n        \"min\": 1,\n        \"max\": 9,\n        \"num_unique_values\": 8,\n        \"samples\": [\n          2,\n          6,\n          1\n        ],\n        \"semantic_type\": \"\",\n        \"description\": \"\"\n      }\n    },\n    {\n      \"column\": \"count\",\n      \"properties\": {\n        \"dtype\": \"number\",\n        \"std\": 14,\n        \"min\": 1,\n        \"max\": 40,\n        \"num_unique_values\": 8,\n        \"samples\": [\n          40,\n          1,\n          26\n        ],\n        \"semantic_type\": \"\",\n        \"description\": \"\"\n      }\n    }\n  ]\n}",
              "type": "dataframe",
              "variable_name": "comfort_food_reasons"
            },
            "text/html": [
              "\n",
              "  <div id=\"df-6d72e9ea-613f-4c15-9641-bdf001cb6bdb\" class=\"colab-df-container\">\n",
              "    <div>\n",
              "<style scoped>\n",
              "    .dataframe tbody tr th:only-of-type {\n",
              "        vertical-align: middle;\n",
              "    }\n",
              "\n",
              "    .dataframe tbody tr th {\n",
              "        vertical-align: top;\n",
              "    }\n",
              "\n",
              "    .dataframe thead th {\n",
              "        text-align: right;\n",
              "    }\n",
              "</style>\n",
              "<table border=\"1\" class=\"dataframe\">\n",
              "  <thead>\n",
              "    <tr style=\"text-align: right;\">\n",
              "      <th></th>\n",
              "      <th>count</th>\n",
              "    </tr>\n",
              "    <tr>\n",
              "      <th>comfort_food_reasons_coded</th>\n",
              "      <th></th>\n",
              "    </tr>\n",
              "  </thead>\n",
              "  <tbody>\n",
              "    <tr>\n",
              "      <th>1</th>\n",
              "      <td>26</td>\n",
              "    </tr>\n",
              "    <tr>\n",
              "      <th>2</th>\n",
              "      <td>40</td>\n",
              "    </tr>\n",
              "    <tr>\n",
              "      <th>3</th>\n",
              "      <td>16</td>\n",
              "    </tr>\n",
              "    <tr>\n",
              "      <th>4</th>\n",
              "      <td>2</td>\n",
              "    </tr>\n",
              "    <tr>\n",
              "      <th>5</th>\n",
              "      <td>4</td>\n",
              "    </tr>\n",
              "    <tr>\n",
              "      <th>6</th>\n",
              "      <td>1</td>\n",
              "    </tr>\n",
              "    <tr>\n",
              "      <th>7</th>\n",
              "      <td>5</td>\n",
              "    </tr>\n",
              "    <tr>\n",
              "      <th>9</th>\n",
              "      <td>3</td>\n",
              "    </tr>\n",
              "  </tbody>\n",
              "</table>\n",
              "</div>\n",
              "    <div class=\"colab-df-buttons\">\n",
              "\n",
              "  <div class=\"colab-df-container\">\n",
              "    <button class=\"colab-df-convert\" onclick=\"convertToInteractive('df-6d72e9ea-613f-4c15-9641-bdf001cb6bdb')\"\n",
              "            title=\"Convert this dataframe to an interactive table.\"\n",
              "            style=\"display:none;\">\n",
              "\n",
              "  <svg xmlns=\"http://www.w3.org/2000/svg\" height=\"24px\" viewBox=\"0 -960 960 960\">\n",
              "    <path d=\"M120-120v-720h720v720H120Zm60-500h600v-160H180v160Zm220 220h160v-160H400v160Zm0 220h160v-160H400v160ZM180-400h160v-160H180v160Zm440 0h160v-160H620v160ZM180-180h160v-160H180v160Zm440 0h160v-160H620v160Z\"/>\n",
              "  </svg>\n",
              "    </button>\n",
              "\n",
              "  <style>\n",
              "    .colab-df-container {\n",
              "      display:flex;\n",
              "      gap: 12px;\n",
              "    }\n",
              "\n",
              "    .colab-df-convert {\n",
              "      background-color: #E8F0FE;\n",
              "      border: none;\n",
              "      border-radius: 50%;\n",
              "      cursor: pointer;\n",
              "      display: none;\n",
              "      fill: #1967D2;\n",
              "      height: 32px;\n",
              "      padding: 0 0 0 0;\n",
              "      width: 32px;\n",
              "    }\n",
              "\n",
              "    .colab-df-convert:hover {\n",
              "      background-color: #E2EBFA;\n",
              "      box-shadow: 0px 1px 2px rgba(60, 64, 67, 0.3), 0px 1px 3px 1px rgba(60, 64, 67, 0.15);\n",
              "      fill: #174EA6;\n",
              "    }\n",
              "\n",
              "    .colab-df-buttons div {\n",
              "      margin-bottom: 4px;\n",
              "    }\n",
              "\n",
              "    [theme=dark] .colab-df-convert {\n",
              "      background-color: #3B4455;\n",
              "      fill: #D2E3FC;\n",
              "    }\n",
              "\n",
              "    [theme=dark] .colab-df-convert:hover {\n",
              "      background-color: #434B5C;\n",
              "      box-shadow: 0px 1px 3px 1px rgba(0, 0, 0, 0.15);\n",
              "      filter: drop-shadow(0px 1px 2px rgba(0, 0, 0, 0.3));\n",
              "      fill: #FFFFFF;\n",
              "    }\n",
              "  </style>\n",
              "\n",
              "    <script>\n",
              "      const buttonEl =\n",
              "        document.querySelector('#df-6d72e9ea-613f-4c15-9641-bdf001cb6bdb button.colab-df-convert');\n",
              "      buttonEl.style.display =\n",
              "        google.colab.kernel.accessAllowed ? 'block' : 'none';\n",
              "\n",
              "      async function convertToInteractive(key) {\n",
              "        const element = document.querySelector('#df-6d72e9ea-613f-4c15-9641-bdf001cb6bdb');\n",
              "        const dataTable =\n",
              "          await google.colab.kernel.invokeFunction('convertToInteractive',\n",
              "                                                    [key], {});\n",
              "        if (!dataTable) return;\n",
              "\n",
              "        const docLinkHtml = 'Like what you see? Visit the ' +\n",
              "          '<a target=\"_blank\" href=https://colab.research.google.com/notebooks/data_table.ipynb>data table notebook</a>'\n",
              "          + ' to learn more about interactive tables.';\n",
              "        element.innerHTML = '';\n",
              "        dataTable['output_type'] = 'display_data';\n",
              "        await google.colab.output.renderOutput(dataTable, element);\n",
              "        const docLink = document.createElement('div');\n",
              "        docLink.innerHTML = docLinkHtml;\n",
              "        element.appendChild(docLink);\n",
              "      }\n",
              "    </script>\n",
              "  </div>\n",
              "\n",
              "\n",
              "<div id=\"df-2efe57d0-f039-4ea7-880e-5968d68f27be\">\n",
              "  <button class=\"colab-df-quickchart\" onclick=\"quickchart('df-2efe57d0-f039-4ea7-880e-5968d68f27be')\"\n",
              "            title=\"Suggest charts\"\n",
              "            style=\"display:none;\">\n",
              "\n",
              "<svg xmlns=\"http://www.w3.org/2000/svg\" height=\"24px\"viewBox=\"0 0 24 24\"\n",
              "     width=\"24px\">\n",
              "    <g>\n",
              "        <path d=\"M19 3H5c-1.1 0-2 .9-2 2v14c0 1.1.9 2 2 2h14c1.1 0 2-.9 2-2V5c0-1.1-.9-2-2-2zM9 17H7v-7h2v7zm4 0h-2V7h2v10zm4 0h-2v-4h2v4z\"/>\n",
              "    </g>\n",
              "</svg>\n",
              "  </button>\n",
              "\n",
              "<style>\n",
              "  .colab-df-quickchart {\n",
              "      --bg-color: #E8F0FE;\n",
              "      --fill-color: #1967D2;\n",
              "      --hover-bg-color: #E2EBFA;\n",
              "      --hover-fill-color: #174EA6;\n",
              "      --disabled-fill-color: #AAA;\n",
              "      --disabled-bg-color: #DDD;\n",
              "  }\n",
              "\n",
              "  [theme=dark] .colab-df-quickchart {\n",
              "      --bg-color: #3B4455;\n",
              "      --fill-color: #D2E3FC;\n",
              "      --hover-bg-color: #434B5C;\n",
              "      --hover-fill-color: #FFFFFF;\n",
              "      --disabled-bg-color: #3B4455;\n",
              "      --disabled-fill-color: #666;\n",
              "  }\n",
              "\n",
              "  .colab-df-quickchart {\n",
              "    background-color: var(--bg-color);\n",
              "    border: none;\n",
              "    border-radius: 50%;\n",
              "    cursor: pointer;\n",
              "    display: none;\n",
              "    fill: var(--fill-color);\n",
              "    height: 32px;\n",
              "    padding: 0;\n",
              "    width: 32px;\n",
              "  }\n",
              "\n",
              "  .colab-df-quickchart:hover {\n",
              "    background-color: var(--hover-bg-color);\n",
              "    box-shadow: 0 1px 2px rgba(60, 64, 67, 0.3), 0 1px 3px 1px rgba(60, 64, 67, 0.15);\n",
              "    fill: var(--button-hover-fill-color);\n",
              "  }\n",
              "\n",
              "  .colab-df-quickchart-complete:disabled,\n",
              "  .colab-df-quickchart-complete:disabled:hover {\n",
              "    background-color: var(--disabled-bg-color);\n",
              "    fill: var(--disabled-fill-color);\n",
              "    box-shadow: none;\n",
              "  }\n",
              "\n",
              "  .colab-df-spinner {\n",
              "    border: 2px solid var(--fill-color);\n",
              "    border-color: transparent;\n",
              "    border-bottom-color: var(--fill-color);\n",
              "    animation:\n",
              "      spin 1s steps(1) infinite;\n",
              "  }\n",
              "\n",
              "  @keyframes spin {\n",
              "    0% {\n",
              "      border-color: transparent;\n",
              "      border-bottom-color: var(--fill-color);\n",
              "      border-left-color: var(--fill-color);\n",
              "    }\n",
              "    20% {\n",
              "      border-color: transparent;\n",
              "      border-left-color: var(--fill-color);\n",
              "      border-top-color: var(--fill-color);\n",
              "    }\n",
              "    30% {\n",
              "      border-color: transparent;\n",
              "      border-left-color: var(--fill-color);\n",
              "      border-top-color: var(--fill-color);\n",
              "      border-right-color: var(--fill-color);\n",
              "    }\n",
              "    40% {\n",
              "      border-color: transparent;\n",
              "      border-right-color: var(--fill-color);\n",
              "      border-top-color: var(--fill-color);\n",
              "    }\n",
              "    60% {\n",
              "      border-color: transparent;\n",
              "      border-right-color: var(--fill-color);\n",
              "    }\n",
              "    80% {\n",
              "      border-color: transparent;\n",
              "      border-right-color: var(--fill-color);\n",
              "      border-bottom-color: var(--fill-color);\n",
              "    }\n",
              "    90% {\n",
              "      border-color: transparent;\n",
              "      border-bottom-color: var(--fill-color);\n",
              "    }\n",
              "  }\n",
              "</style>\n",
              "\n",
              "  <script>\n",
              "    async function quickchart(key) {\n",
              "      const quickchartButtonEl =\n",
              "        document.querySelector('#' + key + ' button');\n",
              "      quickchartButtonEl.disabled = true;  // To prevent multiple clicks.\n",
              "      quickchartButtonEl.classList.add('colab-df-spinner');\n",
              "      try {\n",
              "        const charts = await google.colab.kernel.invokeFunction(\n",
              "            'suggestCharts', [key], {});\n",
              "      } catch (error) {\n",
              "        console.error('Error during call to suggestCharts:', error);\n",
              "      }\n",
              "      quickchartButtonEl.classList.remove('colab-df-spinner');\n",
              "      quickchartButtonEl.classList.add('colab-df-quickchart-complete');\n",
              "    }\n",
              "    (() => {\n",
              "      let quickchartButtonEl =\n",
              "        document.querySelector('#df-2efe57d0-f039-4ea7-880e-5968d68f27be button');\n",
              "      quickchartButtonEl.style.display =\n",
              "        google.colab.kernel.accessAllowed ? 'block' : 'none';\n",
              "    })();\n",
              "  </script>\n",
              "</div>\n",
              "\n",
              "  <div id=\"id_2a471027-7b33-49ca-8f78-540a2ac4cb81\">\n",
              "    <style>\n",
              "      .colab-df-generate {\n",
              "        background-color: #E8F0FE;\n",
              "        border: none;\n",
              "        border-radius: 50%;\n",
              "        cursor: pointer;\n",
              "        display: none;\n",
              "        fill: #1967D2;\n",
              "        height: 32px;\n",
              "        padding: 0 0 0 0;\n",
              "        width: 32px;\n",
              "      }\n",
              "\n",
              "      .colab-df-generate:hover {\n",
              "        background-color: #E2EBFA;\n",
              "        box-shadow: 0px 1px 2px rgba(60, 64, 67, 0.3), 0px 1px 3px 1px rgba(60, 64, 67, 0.15);\n",
              "        fill: #174EA6;\n",
              "      }\n",
              "\n",
              "      [theme=dark] .colab-df-generate {\n",
              "        background-color: #3B4455;\n",
              "        fill: #D2E3FC;\n",
              "      }\n",
              "\n",
              "      [theme=dark] .colab-df-generate:hover {\n",
              "        background-color: #434B5C;\n",
              "        box-shadow: 0px 1px 3px 1px rgba(0, 0, 0, 0.15);\n",
              "        filter: drop-shadow(0px 1px 2px rgba(0, 0, 0, 0.3));\n",
              "        fill: #FFFFFF;\n",
              "      }\n",
              "    </style>\n",
              "    <button class=\"colab-df-generate\" onclick=\"generateWithVariable('comfort_food_reasons')\"\n",
              "            title=\"Generate code using this dataframe.\"\n",
              "            style=\"display:none;\">\n",
              "\n",
              "  <svg xmlns=\"http://www.w3.org/2000/svg\" height=\"24px\"viewBox=\"0 0 24 24\"\n",
              "       width=\"24px\">\n",
              "    <path d=\"M7,19H8.4L18.45,9,17,7.55,7,17.6ZM5,21V16.75L18.45,3.32a2,2,0,0,1,2.83,0l1.4,1.43a1.91,1.91,0,0,1,.58,1.4,1.91,1.91,0,0,1-.58,1.4L9.25,21ZM18.45,9,17,7.55Zm-12,3A5.31,5.31,0,0,0,4.9,8.1,5.31,5.31,0,0,0,1,6.5,5.31,5.31,0,0,0,4.9,4.9,5.31,5.31,0,0,0,6.5,1,5.31,5.31,0,0,0,8.1,4.9,5.31,5.31,0,0,0,12,6.5,5.46,5.46,0,0,0,6.5,12Z\"/>\n",
              "  </svg>\n",
              "    </button>\n",
              "    <script>\n",
              "      (() => {\n",
              "      const buttonEl =\n",
              "        document.querySelector('#id_2a471027-7b33-49ca-8f78-540a2ac4cb81 button.colab-df-generate');\n",
              "      buttonEl.style.display =\n",
              "        google.colab.kernel.accessAllowed ? 'block' : 'none';\n",
              "\n",
              "      buttonEl.onclick = () => {\n",
              "        google.colab.notebook.generateWithVariable('comfort_food_reasons');\n",
              "      }\n",
              "      })();\n",
              "    </script>\n",
              "  </div>\n",
              "\n",
              "    </div>\n",
              "  </div>\n"
            ],
            "text/plain": [
              "                            count\n",
              "comfort_food_reasons_coded       \n",
              "1                              26\n",
              "2                              40\n",
              "3                              16\n",
              "4                               2\n",
              "5                               4\n",
              "6                               1\n",
              "7                               5\n",
              "9                               3"
            ]
          },
          "execution_count": 34,
          "metadata": {},
          "output_type": "execute_result"
        }
      ],
      "source": [
        "comfort_food_reasons = pd.DataFrame(df['comfort_food_reasons_coded'].value_counts())\n",
        "comfort_food_reasons = comfort_food_reasons.sort_values(by=['comfort_food_reasons_coded'], ascending=True)\n",
        "comfort_food_reasons"
      ]
    },
    {
      "cell_type": "code",
      "execution_count": null,
      "metadata": {
        "colab": {
          "base_uri": "https://localhost:8080/",
          "height": 576
        },
        "id": "Zwt1hEMuT7aE",
        "outputId": "25062ae9-1891-4044-d14c-5b4b2c0261d6"
      },
      "outputs": [
        {
          "data": {
            "image/png": "[encoded data removed]",
            "text/plain": [
              "<Figure size 1000x700 with 1 Axes>"
            ]
          },
          "metadata": {},
          "output_type": "display_data"
        }
      ],
      "source": [
        "comfort_food_reasons.plot(kind='pie', x='comfort_food_reasons_coded', y='count', autopct='%1.1f%%', figsize=(10, 7))\n",
        "plt.show()"
      ]
    },
    {
      "cell_type": "markdown",
      "metadata": {
        "id": "bcHwyC5ixvno"
      },
      "source": [
        "**Observation:**\n",
        "The above pie chart shows the distribution of the reasons why a student eats their preferred comfort food.\n",
        "\n",
        "1 - stress\n",
        "\n",
        "2 - boredom\n",
        "\n",
        "3 - depression/sadness\n",
        "\n",
        "4 - hunger\n",
        "\n",
        "5 - laziness\n",
        "\n",
        "6 - cold weather\n",
        "\n",
        "7 - happiness\n",
        "\n",
        "8 - watching tv\n",
        "\n",
        "9 - none\n",
        "\n",
        "The most common reason (41.2%) is boredom. The next most common reason is stress (26.8%), followed by depression/sadness (16.5%)"
      ]
    },
    {
      "cell_type": "code",
      "execution_count": null,
      "metadata": {
        "colab": {
          "base_uri": "https://localhost:8080/",
          "height": 450
        },
        "id": "eSc5-zvaY3Ow",
        "outputId": "410cf8eb-e8e9-4bbf-a857-4d60d84b0176"
      },
      "outputs": [
        {
          "data": {
            "image/png": "[encoded data removed]",
            "text/plain": [
              "<Figure size 640x480 with 2 Axes>"
            ]
          },
          "metadata": {},
          "output_type": "display_data"
        }
      ],
      "source": [
        "fig, ax =plt.subplots(1,2)\n",
        "sns.countplot(data=df, x='cook', ax=ax[0])\n",
        "sns.countplot(data=df, x='parents_cook', ax=ax[1])\n",
        "fig.show()"
      ]
    },
    {
      "cell_type": "markdown",
      "metadata": {
        "id": "N9412jh71J02"
      },
      "source": [
        "**Observation:**\n",
        "The above figure shows two countplots side by side - illustrating the distribution of how often the students cook and how often their cooked.\n",
        "\n",
        "1 - Almost everyday\n",
        "\n",
        "2 - 2-3 times a week\n",
        "\n",
        "3 - 1-2 times a week\n",
        "\n",
        "4 - on holidays only\n",
        "\n",
        "5 - never\n",
        "\n",
        "It is apparent that most students cook only 1-2 times a week while most parents cooked almost everyday.\n"
      ]
    },
    {
      "cell_type": "code",
      "execution_count": null,
      "metadata": {
        "colab": {
          "base_uri": "https://localhost:8080/",
          "height": 472
        },
        "id": "DA6-3tWVmQ4T",
        "outputId": "90306298-a353-4759-cb76-4485bdff1e84"
      },
      "outputs": [
        {
          "data": {
            "image/png": "[encoded data removed]",
            "text/plain": [
              "<Figure size 640x480 with 1 Axes>"
            ]
          },
          "metadata": {},
          "output_type": "display_data"
        }
      ],
      "source": [
        "sns.countplot(data=df, x=\"breakfast\").set(title=\"Breakfast choices of students\")\n",
        "plt.show()"
      ]
    },
    {
      "cell_type": "markdown",
      "metadata": {
        "id": "whb7tOUomhzK"
      },
      "source": [
        "**Observation:** The above plot shows what option students associate with breakfast.\n",
        "\n",
        "1 - cereal\n",
        "2 - donuts\n",
        "\n",
        "It is clear that an overwhelming amount of students associate the healthier option of cereal with breakfast."
      ]
    },
    {
      "cell_type": "code",
      "execution_count": null,
      "metadata": {
        "colab": {
          "base_uri": "https://localhost:8080/",
          "height": 472
        },
        "id": "gCkmNsTdoHO_",
        "outputId": "996b7d5d-9442-4c2b-86f8-ae409d4d0743"
      },
      "outputs": [
        {
          "data": {
            "image/png": "[encoded data removed]",
            "text/plain": [
              "<Figure size 640x480 with 1 Axes>"
            ]
          },
          "metadata": {},
          "output_type": "display_data"
        }
      ],
      "source": [
        "sns.countplot(data=df, x=\"sports\").set(title=\"Distribution of Students who play sports\")\n",
        "plt.show()"
      ]
    },
    {
      "cell_type": "markdown",
      "metadata": {
        "id": "0xziVBrCo7Qj"
      },
      "source": [
        "**Observation:** Out of the 97 students, 60 said that they do a sporting activity and 37 said they do not performing a sporting activity."
      ]
    },
    {
      "cell_type": "code",
      "execution_count": null,
      "metadata": {
        "colab": {
          "base_uri": "https://localhost:8080/",
          "height": 472
        },
        "id": "pl5cpzVJpwvb",
        "outputId": "9b8d6739-86cd-4544-dd58-3236f364a016"
      },
      "outputs": [
        {
          "data": {
            "image/png": "[encoded data removed]",
            "text/plain": [
              "<Figure size 640x480 with 1 Axes>"
            ]
          },
          "metadata": {},
          "output_type": "display_data"
        }
      ],
      "source": [
        "sns.countplot(data=df, x=\"exercise\").set(title=\"Distribution of how often students exercise in a week\")\n",
        "plt.show()"
      ]
    },
    {
      "cell_type": "markdown",
      "metadata": {
        "id": "mOSxvMLLp_Tq"
      },
      "source": [
        "**Observation:** Majority of students say that they exercise everyday.\n",
        "\n",
        "1 - Everyday\n",
        "\n",
        "2 - Two or three times a week\n",
        "\n",
        "3 - Once a week"
      ]
    },
    {
      "cell_type": "code",
      "execution_count": null,
      "metadata": {
        "colab": {
          "base_uri": "https://localhost:8080/",
          "height": 472
        },
        "id": "xZv1A0g9qg3h",
        "outputId": "ce4cfbd0-ba85-48b7-aa30-dec82f8768a7"
      },
      "outputs": [
        {
          "data": {
            "image/png": "[encoded data removed]",
            "text/plain": [
              "<Figure size 640x480 with 1 Axes>"
            ]
          },
          "metadata": {},
          "output_type": "display_data"
        }
      ],
      "source": [
        "sns.countplot(data=df, x=\"veggies_day\").set(title=\"Distribution of how likely it is for students to eat veggies in a day\")\n",
        "plt.show()"
      ]
    },
    {
      "cell_type": "markdown",
      "metadata": {
        "id": "gI3hGA9Vq6tK"
      },
      "source": [
        "**Observation:** Majority of students said that they are very likely to eat veggies in a day.\n",
        "\n",
        "1 - very unlikely\n",
        "\n",
        "2 - unlikely\n",
        "\n",
        "3 - neutral\n",
        "\n",
        "4- likely\n",
        "\n",
        "5 - very likely\n"
      ]
    },
    {
      "cell_type": "code",
      "execution_count": null,
      "metadata": {
        "colab": {
          "base_uri": "https://localhost:8080/",
          "height": 472
        },
        "id": "iZ4wWP53q6LK",
        "outputId": "bf28486d-3dd1-41e5-8021-a70176155f68"
      },
      "outputs": [
        {
          "data": {
            "image/png": "[encoded data removed]",
            "text/plain": [
              "<Figure size 640x480 with 1 Axes>"
            ]
          },
          "metadata": {},
          "output_type": "display_data"
        }
      ],
      "source": [
        "sns.countplot(data=df, x=\"vitamins\").set(title=\"Distribution of Vitamins & Supplements\")\n",
        "plt.show()"
      ]
    },
    {
      "cell_type": "markdown",
      "metadata": {
        "id": "3DCdSa29rgaO"
      },
      "source": [
        "**Observation:** The distribution of how many students take supplements is 50-50.\n",
        "\n",
        "1 - yes\n",
        "\n",
        "2 - no"
      ]
    },
    {
      "cell_type": "code",
      "execution_count": null,
      "metadata": {
        "colab": {
          "base_uri": "https://localhost:8080/",
          "height": 472
        },
        "id": "Wehx4WryrfyG",
        "outputId": "5bb945cd-9ef7-44e6-b7e7-22d882971de8"
      },
      "outputs": [
        {
          "data": {
            "image/png": "[encoded data removed]",
            "text/plain": [
              "<Figure size 640x480 with 1 Axes>"
            ]
          },
          "metadata": {},
          "output_type": "display_data"
        }
      ],
      "source": [
        "sns.countplot(data=df, x=\"self_perception_weight\").set(title=\"Distribution of self perception of weight\")\n",
        "plt.show()"
      ]
    },
    {
      "cell_type": "markdown",
      "metadata": {
        "id": "TEFiExD_sCkX"
      },
      "source": [
        "**Observation:**  Most of the students think that they are at just the right weight.\n",
        "\n",
        "6 - i dont think myself in these terms\n",
        "\n",
        "5 - overweight\n",
        "\n",
        "4 - slightly overweight\n",
        "\n",
        "3 - just right\n",
        "\n",
        "2 - very fit\n",
        "\n",
        "1 - slim\n"
      ]
    },
    {
      "cell_type": "code",
      "execution_count": null,
      "metadata": {
        "colab": {
          "base_uri": "https://localhost:8080/",
          "height": 472
        },
        "id": "n1LaqXMJr_Ao",
        "outputId": "784b86c5-ccb6-4802-af5d-c5ddcae8b991"
      },
      "outputs": [
        {
          "data": {
            "image/png": "[encoded data removed]",
            "text/plain": [
              "<Figure size 640x480 with 1 Axes>"
            ]
          },
          "metadata": {},
          "output_type": "display_data"
        }
      ],
      "source": [
        "sns.lineplot(data=df, x=\"income\", y=\"eating_out\").set(title=\"Income vs. Eating Out\")\n",
        "plt.show()"
      ]
    },
    {
      "cell_type": "markdown",
      "metadata": {
        "id": "T1wCACzMtDE8"
      },
      "source": [
        "**Observation:** Students with the income between 30000 to 50000 USD eat out the most frequently.\n",
        "\n",
        "Income (in dollars)\n",
        "\n",
        "1 - less than 15,000\n",
        "\n",
        "2 - 15,001 to 30,000\n",
        "\n",
        "3 - 30,001 to 50,000\n",
        "\n",
        "4 - 50,001 to 70,000\n",
        "\n",
        "5 - 70,001 to 100,000\n",
        "\n",
        "6 - higher than 100,000\n",
        "\n",
        "\n",
        "Eating Out\n",
        "\n",
        "1 - Never\n",
        "\n",
        "2 - 1-2 times\n",
        "\n",
        "3 - 2-3 times\n",
        "\n",
        "4 - 3-5 times\n",
        "\n",
        "5 - every day\n"
      ]
    },
    {
      "cell_type": "code",
      "execution_count": null,
      "metadata": {
        "colab": {
          "base_uri": "https://localhost:8080/",
          "height": 472
        },
        "id": "vljtNBRts3AJ",
        "outputId": "f4f28c67-b92d-41af-b604-d5505cac67db"
      },
      "outputs": [
        {
          "data": {
            "image/png": "[encoded data removed]",
            "text/plain": [
              "<Figure size 640x480 with 1 Axes>"
            ]
          },
          "metadata": {},
          "output_type": "display_data"
        }
      ],
      "source": [
        "sns.countplot(data=df, x=\"pay_meal_out\").set(title=\"How much would the students pay for a meal outside?\")\n",
        "plt.show()"
      ]
    },
    {
      "cell_type": "markdown",
      "metadata": {
        "id": "S6fWDELyusFl"
      },
      "source": [
        "**Observation:** A vast majority of students said they'll pay between 10 to 20 dollars for a meal out.\n",
        "\n",
        "Pay for a meal outside (in dollars):\n",
        "\n",
        "1 - up to 5.00\n",
        "\n",
        "2 - 5.01 to 10.00\n",
        "\n",
        "3 - 10.01 to 20.00\n",
        "\n",
        "4 - 20.01 to 30.00\n",
        "\n",
        "5 - 30.01 to 40.00\n",
        "\n",
        "6 - more than 40.01\n",
        "\n"
      ]
    },
    {
      "cell_type": "code",
      "execution_count": null,
      "metadata": {
        "colab": {
          "base_uri": "https://localhost:8080/",
          "height": 472
        },
        "id": "VskP7-X7upMC",
        "outputId": "722badbf-cedc-4983-f04e-6e564cb180e3"
      },
      "outputs": [
        {
          "data": {
            "image/png": "[encoded data removed]",
            "text/plain": [
              "<Figure size 640x480 with 1 Axes>"
            ]
          },
          "metadata": {},
          "output_type": "display_data"
        }
      ],
      "source": [
        "sns.countplot(data=df, x=\"life_rewarding\").set(title=\"How likely are the students to agree with 'I feel life is very rewarding!'\")\n",
        "plt.show()"
      ]
    },
    {
      "cell_type": "markdown",
      "metadata": {
        "id": "tYFY1YN1wDOm"
      },
      "source": [
        "**Observation:** Majority of students strongly agree that life is very rewarding.\n",
        "\n",
        "\n",
        "1 to 10 where 1 is strongly agree and 10 is strongly disagree - scale"
      ]
    },
    {
      "cell_type": "code",
      "execution_count": null,
      "metadata": {
        "colab": {
          "base_uri": "https://localhost:8080/",
          "height": 472
        },
        "id": "mtvVop-lwvAC",
        "outputId": "abcbdde8-4b8f-4aaf-a383-5e42e0a5d850"
      },
      "outputs": [
        {
          "data": {
            "image/png": "[encoded data removed]",
            "text/plain": [
              "<Figure size 640x480 with 1 Axes>"
            ]
          },
          "metadata": {},
          "output_type": "display_data"
        }
      ],
      "source": [
        "sns.countplot(data=df, x=\"marital_status\").set(title=\"Distribution of Marital Status\")\n",
        "plt.show()"
      ]
    },
    {
      "cell_type": "markdown",
      "metadata": {
        "id": "frMe-pdLxBj0"
      },
      "source": [
        "**Observation:** Over 50 students are single and around 45 are in a relationship.\n",
        "\n",
        "1 - Single  \n",
        "\n",
        "2 - In a relationship\n",
        "\n",
        "3 - Cohabiting\n",
        "\n",
        "4 - Married\n",
        "\n",
        "5 - Divorced\n",
        "\n",
        "6 - Widowed\n",
        "\n"
      ]
    },
    {
      "cell_type": "code",
      "execution_count": null,
      "metadata": {
        "colab": {
          "base_uri": "https://localhost:8080/",
          "height": 472
        },
        "id": "zZAkQ3FFw9Lm",
        "outputId": "f2ba43aa-34fb-4c67-d760-b6b5bb042d4a"
      },
      "outputs": [
        {
          "data": {
            "image/png": "[encoded data removed]",
            "text/plain": [
              "<Figure size 640x480 with 1 Axes>"
            ]
          },
          "metadata": {},
          "output_type": "display_data"
        }
      ],
      "source": [
        "sns.barplot(data=df, x=\"marital_status\", y=\"eating_out\").set(title=\"Marital Status vs. Eating Out\")\n",
        "plt.show()"
      ]
    },
    {
      "cell_type": "markdown",
      "metadata": {
        "id": "3GIx69wPxjrv"
      },
      "source": [
        "**Observation:** Students who are either single or in a relationship eat out 1-3 times a week."
      ]
    },
    {
      "cell_type": "code",
      "execution_count": null,
      "metadata": {
        "id": "me6P5afUyGVp"
      },
      "outputs": [],
      "source": [
        "df.to_csv(\"new_food_choices.csv\")"
      ]
    },
    {
      "cell_type": "code",
      "execution_count": null,
      "metadata": {
        "id": "3pK0tG533GVl"
      },
      "outputs": [],
      "source": [
        "most_popular_items.to_csv(\"most_popular_items.csv\")"
      ]
    }
  ],
  "metadata": {
    "colab": {
      "provenance": []
    },
    "kernelspec": {
      "display_name": "Python 3",
      "name": "python3"
    },
    "language_info": {
      "name": "python"
    }
  },
  "nbformat": 4,
  "nbformat_minor": 0
}
